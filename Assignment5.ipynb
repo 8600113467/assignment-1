{
 "cells": [
  {
   "cell_type": "code",
   "execution_count": null,
   "id": "5cdb187d-248f-497c-b5c3-18e313b5fc96",
   "metadata": {},
   "outputs": [],
   "source": [
    "1.What does an empty dictionary's code look like?\n",
    "Ans: An empty dictionary is often represented by two empty curly brackets\n",
    "test = {} "
   ]
  },
  {
   "cell_type": "code",
   "execution_count": 18,
   "id": "59b435b4-515b-4b80-a1d0-8082e7e2e577",
   "metadata": {},
   "outputs": [
    {
     "data": {
      "text/plain": [
       "dict"
      ]
     },
     "execution_count": 18,
     "metadata": {},
     "output_type": "execute_result"
    }
   ],
   "source": [
    "test ={}\n",
    "type(test)"
   ]
  },
  {
   "cell_type": "code",
   "execution_count": null,
   "id": "efc03c51-fcb9-4c39-be04-1979a8116410",
   "metadata": {},
   "outputs": [],
   "source": [
    "2.what is the value of dictionary value with key 'foo' and the value 42 ?\n",
    "Ans: {'foo':42}"
   ]
  },
  {
   "cell_type": "code",
   "execution_count": null,
   "id": "7c481f52-de4e-46bb-a527-0dc26b9b221a",
   "metadata": {},
   "outputs": [],
   "source": []
  },
  {
   "cell_type": "code",
   "execution_count": null,
   "id": "ac7f8aac-4b66-44a7-83dc-06e8d9d954bd",
   "metadata": {},
   "outputs": [],
   "source": [
    "3.What is the most significant distinction between a dictionary and a list?\n",
    "Ans: Dictionaries are represented by {} where as listed are represented by []\n",
    "The Items stored in a dictionary are Unordered , while the items in a list are ordered\n"
   ]
  },
  {
   "cell_type": "code",
   "execution_count": null,
   "id": "eac56235-d46d-4c2e-9dea-d86e7e755c89",
   "metadata": {},
   "outputs": [],
   "source": [
    "4.What happens if you try to access spam ['foo'] if spam is {'bar':100} ?\n",
    "Ans: we will get a keyError KeyError: 'foo'\n"
   ]
  },
  {
   "cell_type": "code",
   "execution_count": 3,
   "id": "ed82f62a-8693-43a6-b2af-a93c952b184a",
   "metadata": {},
   "outputs": [],
   "source": [
    "spam = {'bar':100} "
   ]
  },
  {
   "cell_type": "code",
   "execution_count": 5,
   "id": "9597b2d7-07cb-479e-b65c-43c077638097",
   "metadata": {},
   "outputs": [
    {
     "data": {
      "text/plain": [
       "100"
      ]
     },
     "execution_count": 5,
     "metadata": {},
     "output_type": "execute_result"
    }
   ],
   "source": [
    "spam['bar']"
   ]
  },
  {
   "cell_type": "code",
   "execution_count": 6,
   "id": "2c8cf826-1eff-4a85-863a-597fb49fdbe7",
   "metadata": {},
   "outputs": [
    {
     "ename": "KeyError",
     "evalue": "'foo'",
     "output_type": "error",
     "traceback": [
      "\u001b[0;31m---------------------------------------------------------------------------\u001b[0m",
      "\u001b[0;31mKeyError\u001b[0m                                  Traceback (most recent call last)",
      "Cell \u001b[0;32mIn [6], line 1\u001b[0m\n\u001b[0;32m----> 1\u001b[0m \u001b[43mspam\u001b[49m\u001b[43m[\u001b[49m\u001b[38;5;124;43m'\u001b[39;49m\u001b[38;5;124;43mfoo\u001b[39;49m\u001b[38;5;124;43m'\u001b[39;49m\u001b[43m]\u001b[49m\n",
      "\u001b[0;31mKeyError\u001b[0m: 'foo'"
     ]
    }
   ],
   "source": [
    "spam['foo']"
   ]
  },
  {
   "cell_type": "code",
   "execution_count": null,
   "id": "0c6d982f-35ab-4a45-8ea8-154c5d6cf0ad",
   "metadata": {},
   "outputs": [],
   "source": [
    "5.if a dictionary is stored in spam,what is the difference between the expressions 'cat' in spam and 'cat'\n",
    "in spam.keys() ?\n",
    "Ans: There is no difference . The operator checks whether a value exits as a key in the dictionary or not\n"
   ]
  },
  {
   "cell_type": "code",
   "execution_count": 14,
   "id": "9b82534c-e4c5-4f55-9ab4-09e21f0510ca",
   "metadata": {},
   "outputs": [
    {
     "data": {
      "text/plain": [
       "True"
      ]
     },
     "execution_count": 14,
     "metadata": {},
     "output_type": "execute_result"
    }
   ],
   "source": [
    "spam= {'cat':'ruby'}\n",
    "'cat' in spam\n"
   ]
  },
  {
   "cell_type": "code",
   "execution_count": 16,
   "id": "f8841d75-48bf-4f30-bedf-c85842da90fb",
   "metadata": {},
   "outputs": [
    {
     "data": {
      "text/plain": [
       "True"
      ]
     },
     "execution_count": 16,
     "metadata": {},
     "output_type": "execute_result"
    }
   ],
   "source": [
    "'cat' in spam.keys()"
   ]
  },
  {
   "cell_type": "code",
   "execution_count": null,
   "id": "91161ce5-9fce-4d57-b131-341b7e5ba5b5",
   "metadata": {},
   "outputs": [],
   "source": [
    "6.if a dictionary is stored in spam,what is the difference between the expressions 'cat' in spam and 'cat' \n",
    "in spam.values() ?\n",
    "Ans:'cat' in spam checks whether there is a 'cat' key in the dictionary, while 'cat' in spam.values() checks\n",
    "whether there is a value 'cat' for one of the keys in spam.\n"
   ]
  },
  {
   "cell_type": "code",
   "execution_count": 19,
   "id": "e7d1f88f-0018-4da3-8665-2166e171f4b3",
   "metadata": {},
   "outputs": [],
   "source": [
    "spam={\"cat\":\"black\"}"
   ]
  },
  {
   "cell_type": "code",
   "execution_count": 21,
   "id": "de6a5658-5b1f-4f3e-87d1-22ef29e29672",
   "metadata": {},
   "outputs": [
    {
     "data": {
      "text/plain": [
       "True"
      ]
     },
     "execution_count": 21,
     "metadata": {},
     "output_type": "execute_result"
    }
   ],
   "source": [
    "'cat' in spam"
   ]
  },
  {
   "cell_type": "code",
   "execution_count": 22,
   "id": "6514a419-63b1-48d9-9e74-823bbea7ae26",
   "metadata": {},
   "outputs": [
    {
     "data": {
      "text/plain": [
       "False"
      ]
     },
     "execution_count": 22,
     "metadata": {},
     "output_type": "execute_result"
    }
   ],
   "source": [
    "'cat' in spam.values()"
   ]
  },
  {
   "cell_type": "code",
   "execution_count": null,
   "id": "af3abf3c-861d-4704-a0f7-ed01e2dd1c14",
   "metadata": {},
   "outputs": [],
   "source": [
    "7.what is a shortcut for the following code ?\n",
    "if 'color' not in spam: spam['color'] ='black'\n",
    "\n",
    "Ans: spam.setdefault('color','black')\n"
   ]
  },
  {
   "cell_type": "code",
   "execution_count": 31,
   "id": "6d8f55a1-0c9e-4857-b19d-5649b26f9512",
   "metadata": {},
   "outputs": [],
   "source": [
    "spam1 = {'dog':'bruno'}"
   ]
  },
  {
   "cell_type": "code",
   "execution_count": 32,
   "id": "814397f7-edde-4c4e-9a7a-3dc951cdd596",
   "metadata": {},
   "outputs": [],
   "source": [
    "if 'color' not in spam1: spam1['color'] ='black'"
   ]
  },
  {
   "cell_type": "code",
   "execution_count": 33,
   "id": "3e5ec22e-0730-4fa2-9c58-ff054fa4d3f9",
   "metadata": {},
   "outputs": [
    {
     "data": {
      "text/plain": [
       "{'dog': 'bruno', 'color': 'black'}"
      ]
     },
     "execution_count": 33,
     "metadata": {},
     "output_type": "execute_result"
    }
   ],
   "source": [
    "spam1"
   ]
  },
  {
   "cell_type": "code",
   "execution_count": 36,
   "id": "7a30a501-1173-4599-af4b-a894644b632c",
   "metadata": {},
   "outputs": [
    {
     "data": {
      "text/plain": [
       "'black'"
      ]
     },
     "execution_count": 36,
     "metadata": {},
     "output_type": "execute_result"
    }
   ],
   "source": [
    "spam1.setdefault('color','black')"
   ]
  },
  {
   "cell_type": "code",
   "execution_count": null,
   "id": "69b1709b-049d-4559-858d-52aacf843aa5",
   "metadata": {},
   "outputs": [],
   "source": [
    "8.How do you 'pretty print' dictionary values using which modules and function ?\n",
    "Ans: we can pretty print a dictionary by using pprint module"
   ]
  },
  {
   "cell_type": "code",
   "execution_count": 37,
   "id": "cb82fe5b-2822-48fb-9eb4-75140567c63a",
   "metadata": {},
   "outputs": [
    {
     "name": "stdout",
     "output_type": "stream",
     "text": [
      "{'address': {'city': 'Bangalore', 'state': 'Karnataka', 'street': 'East End'},\n",
      " 'age': 20,\n",
      " 'name': 'Abrar Ahmed'}\n"
     ]
    }
   ],
   "source": [
    "import pprint\n",
    "\n",
    "data = {'name': 'Abrar Ahmed', 'age': 20, 'address': {'street': 'East End', 'city': 'Bangalore', 'state': 'Karnataka'}}\n",
    "\n",
    "pprint.pprint(data)"
   ]
  }
 ],
 "metadata": {
  "kernelspec": {
   "display_name": "Python 3 (ipykernel)",
   "language": "python",
   "name": "python3"
  },
  "language_info": {
   "codemirror_mode": {
    "name": "ipython",
    "version": 3
   },
   "file_extension": ".py",
   "mimetype": "text/x-python",
   "name": "python",
   "nbconvert_exporter": "python",
   "pygments_lexer": "ipython3",
   "version": "3.10.6"
  }
 },
 "nbformat": 4,
 "nbformat_minor": 5
}
