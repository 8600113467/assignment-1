{
 "cells": [
  {
   "cell_type": "markdown",
   "id": "4bc73aac-f65a-4a77-a06b-8abfffbcdc71",
   "metadata": {},
   "source": [
    "## BASIC PROGRAMMING ASSIGNMENT NO.2"
   ]
  },
  {
   "cell_type": "code",
   "execution_count": null,
   "id": "778dec49-8e3e-4c31-8feb-2f8b8d36d527",
   "metadata": {},
   "outputs": [],
   "source": [
    "1.What are the two values of the boolean data types? how do you write them ?\n",
    "Ans: True and False are two values of the boolen data types.we can write as True/False\n"
   ]
  },
  {
   "cell_type": "code",
   "execution_count": 1,
   "id": "89972bf9-356f-4881-8eab-0f463fdfe12b",
   "metadata": {},
   "outputs": [
    {
     "name": "stdout",
     "output_type": "stream",
     "text": [
      "True <class 'bool'>\n",
      "False <class 'bool'>\n"
     ]
    }
   ],
   "source": [
    "a=True \n",
    "b=False\n",
    "print(a,type(a))\n",
    "print(b,type(b))"
   ]
  },
  {
   "cell_type": "code",
   "execution_count": null,
   "id": "f5d5604c-3406-43d2-ba63-4df21ba24192",
   "metadata": {},
   "outputs": [],
   "source": [
    "2. What are the three different types of Boolean operators?\n",
    "Ans: The three differnt types of Boolean operators in python are: or and not"
   ]
  },
  {
   "cell_type": "code",
   "execution_count": 1,
   "id": "4177f7e0-3c0f-4cb9-b27d-59ae3fcd9e6f",
   "metadata": {},
   "outputs": [
    {
     "name": "stdout",
     "output_type": "stream",
     "text": [
      "True\n",
      "True\n",
      "False\n"
     ]
    }
   ],
   "source": [
    "a=100\n",
    "b=200\n",
    "print(a>50 and b>100) # Example of boolean and\n",
    "print(a>200 or b>100) # Example of boolean or\n",
    "print(not(a>10)) # Example of boolean not\n"
   ]
  },
  {
   "cell_type": "code",
   "execution_count": null,
   "id": "ba1fe982-f1d8-493e-976c-aace627c569d",
   "metadata": {},
   "outputs": [],
   "source": [
    "3. Make a list of each Boolean operator's truth tables (i.e. every possible combination of Boolean values for the operator and what it \n",
    "evaluate) ?"
   ]
  },
  {
   "cell_type": "code",
   "execution_count": 24,
   "id": "fe99a18c-20f7-47ae-b2af-53438ff1ec53",
   "metadata": {},
   "outputs": [
    {
     "name": "stdout",
     "output_type": "stream",
     "text": [
      "True False False False\n",
      "True True True False\n",
      "False True\n"
     ]
    }
   ],
   "source": [
    "# Truth Table for and operaotor\n",
    "print(\n",
    "    True and True , \n",
    "    True and False, \n",
    "    False and True, \n",
    "    False and False )\n",
    "\n",
    "#Truth Table for or operaotor\n",
    "print( \n",
    "    True or True, \n",
    "    True or False,\n",
    "    False or True, \n",
    "    False or False) \n",
    "\n",
    "#Truth Table for not operaotor\n",
    "print(\n",
    "    not True,\n",
    "    not False )"
   ]
  },
  {
   "cell_type": "code",
   "execution_count": null,
   "id": "05800f1c-7c29-456f-890e-9836d28d461a",
   "metadata": {},
   "outputs": [],
   "source": [
    "4. What are the values of the following expressions ?\n",
    "(5 > 4) and (3 == 5)\n",
    "not (5 > 4)\n",
    "(5 > 4) or (3 == 5)\n",
    "not ((5 > 4) or (3 == 5))\n",
    "(True and True) and (True == False)\n",
    "(not False) or (not True)"
   ]
  },
  {
   "cell_type": "code",
   "execution_count": 27,
   "id": "1c62eceb-b671-4309-9e34-28ee264775ac",
   "metadata": {},
   "outputs": [
    {
     "name": "stdout",
     "output_type": "stream",
     "text": [
      "False\n",
      "False\n",
      "True\n",
      "False\n",
      "False\n",
      "True\n"
     ]
    }
   ],
   "source": [
    "print((5>4)and(3==5)) \n",
    "print(not(5>4)) \n",
    "print((5>4)or(3==5)) \n",
    "print(not((5>4)or(3==5)))\n",
    "print((True and True)and(True==False)) \n",
    "print((not False)or(not True)) \n"
   ]
  },
  {
   "cell_type": "code",
   "execution_count": null,
   "id": "71e0c73f-4145-41e0-a9df-66256190e95e",
   "metadata": {},
   "outputs": [],
   "source": [
    "5. What are the six comparison operators?"
   ]
  },
  {
   "cell_type": "code",
   "execution_count": null,
   "id": "6efac661-2e4e-4893-91b9-e2a3e7a2dfd3",
   "metadata": {},
   "outputs": [],
   "source": [
    "Ans: The Six comparision operators available in python are:\n",
    "== , != , < , > , <= , =>"
   ]
  },
  {
   "cell_type": "code",
   "execution_count": null,
   "id": "06ed78fd-a19a-43e3-b90e-624c69e39e3b",
   "metadata": {},
   "outputs": [],
   "source": [
    "6. How do you tell the difference between the equal to and assignment operators?Describe a condition and when you would use one ?"
   ]
  },
  {
   "cell_type": "code",
   "execution_count": null,
   "id": "829c227e-1be3-4cb4-9522-216af66f7529",
   "metadata": {},
   "outputs": [],
   "source": [
    "Ans: == is the equal to operator that compares two values and evaluates to a Boolean, while = is that assignment operator that stores\n",
    "a value in a variable.\n"
   ]
  },
  {
   "cell_type": "code",
   "execution_count": null,
   "id": "a628b266-9bf5-4eaa-adba-24e1f0d97edb",
   "metadata": {},
   "outputs": [],
   "source": [
    "7. Identify the three blocks in this code:\n",
    "spam = 0\n",
    "if spam == 10:\n",
    "print('eggs')\n",
    "if spam > 5:\n",
    "print('bacon')\n",
    "else:\n",
    "print('ham')\n",
    "print('spam')\n",
    "print('spam')\n"
   ]
  },
  {
   "cell_type": "code",
   "execution_count": 28,
   "id": "639f4043-a7ba-4e0a-9007-9a4fcb7fcd42",
   "metadata": {},
   "outputs": [
    {
     "name": "stdout",
     "output_type": "stream",
     "text": [
      "ham\n",
      "spam\n",
      "spam\n"
     ]
    }
   ],
   "source": [
    "spam = 0  \n",
    "if spam == 10:  \n",
    "    print('eggs')  # block #1\n",
    "if spam > 5:  \n",
    "    print('bacon')  # block #2\n",
    "else:  \n",
    "    print('ham')  # block #3\n",
    "print('spam')  \n",
    "print('spam')"
   ]
  },
  {
   "cell_type": "code",
   "execution_count": null,
   "id": "e714686c-39be-408b-be26-ed9eddd96444",
   "metadata": {},
   "outputs": [],
   "source": [
    "8. Write code that prints Hello if 1 is stored in spam, prints Howdy if 2 is stored in spam, and prints Greetings! if anything else is\n",
    "stored in spam.\n"
   ]
  },
  {
   "cell_type": "code",
   "execution_count": 29,
   "id": "70ff303d-78b1-495b-8d43-392e348d0c5a",
   "metadata": {},
   "outputs": [],
   "source": [
    "def spamCode(spam):\n",
    "    if spam==1:\n",
    "        print('Hello')\n",
    "    elif spam==2:\n",
    "        print('Howdy')\n",
    "    else:\n",
    "        print('Greetings')"
   ]
  },
  {
   "cell_type": "code",
   "execution_count": 30,
   "id": "b53ae4ad-a7a9-415c-814f-b6d1e0e9b30f",
   "metadata": {},
   "outputs": [
    {
     "name": "stdout",
     "output_type": "stream",
     "text": [
      "Hello\n",
      "Howdy\n",
      "Greetings\n"
     ]
    }
   ],
   "source": [
    "spamCode(1) \n",
    "spamCode(2)\n",
    "spamCode(3)"
   ]
  },
  {
   "cell_type": "code",
   "execution_count": null,
   "id": "0b1c3971-4354-4a5b-9462-4ae0d5299b1e",
   "metadata": {},
   "outputs": [],
   "source": [
    "9.If your programme is stuck in an endless loop, what keys you’ll press?\n",
    "Ans: Press Ctrl-c to stop a program stuck in an infinite loop\n"
   ]
  },
  {
   "cell_type": "code",
   "execution_count": null,
   "id": "e9101747-5c0c-4812-938e-782800695b4c",
   "metadata": {},
   "outputs": [],
   "source": [
    "10. How can you tell the difference between break and continue?\n",
    "Ans: The break statement will move the execution outside the loop if break condtion is satisfied. Whereas the continue statement will\n",
    "move the execution to the start of the loop.\n"
   ]
  },
  {
   "cell_type": "code",
   "execution_count": null,
   "id": "605f7d13-5ae9-4e9c-bf4c-6b33d5de65ef",
   "metadata": {},
   "outputs": [],
   "source": [
    "11. In a for loop, what is the difference between range(10), range(0, 10), and range(0, 10, 1)?\n",
    "Ans: The Differences are as follows:\n",
    "\n",
    "The range(10) call range from 0 to 9 (but not include 10)\n",
    "The range (0,10) explicitly tells the loop to start at 0\n",
    "The range(0,10,1) explicitly tells the loop to increase the variable by 1 on each iteration\n"
   ]
  },
  {
   "cell_type": "code",
   "execution_count": null,
   "id": "5cb4d1c1-f23b-4006-acd2-f50e0aa74016",
   "metadata": {},
   "outputs": [],
   "source": [
    "12. Write a short program that prints the numbers 1 to 10 using a for loop. Then write an equivalent program that prints the numbers 1 to\n",
    "10 using a while loop ?"
   ]
  },
  {
   "cell_type": "code",
   "execution_count": 3,
   "id": "0811e671-a2a2-4565-bce7-326b4d3fe9db",
   "metadata": {},
   "outputs": [
    {
     "name": "stdout",
     "output_type": "stream",
     "text": [
      "Using For Loop\n",
      "1 2 3 4 5 6 7 8 9 10 \n",
      "\n",
      "Using While Loop\n",
      "1 2 3 4 5 6 7 8 9 10 "
     ]
    }
   ],
   "source": [
    "print('Using For Loop')\n",
    "for i in range(1,11):\n",
    "    print(i, end=\" \")\n",
    "print('\\n')\n",
    "print('Using While Loop') \n",
    "i=1\n",
    "while i<=10:\n",
    "    print(i, end=\" \")\n",
    "    i+=1"
   ]
  },
  {
   "cell_type": "code",
   "execution_count": null,
   "id": "20784e30-8b3b-4b6d-89c1-53f20de8d63b",
   "metadata": {},
   "outputs": [],
   "source": [
    "13. If you had a function named bacon() inside a module named spam, how would you call it after importing spam ?\n",
    "Ans: This function can be called with spam.bacon()"
   ]
  },
  {
   "cell_type": "code",
   "execution_count": null,
   "id": "f51387d5-0ea8-40ea-a733-1c44e49bbdfc",
   "metadata": {},
   "outputs": [],
   "source": []
  }
 ],
 "metadata": {
  "kernelspec": {
   "display_name": "Python 3 (ipykernel)",
   "language": "python",
   "name": "python3"
  },
  "language_info": {
   "codemirror_mode": {
    "name": "ipython",
    "version": 3
   },
   "file_extension": ".py",
   "mimetype": "text/x-python",
   "name": "python",
   "nbconvert_exporter": "python",
   "pygments_lexer": "ipython3",
   "version": "3.10.6"
  }
 },
 "nbformat": 4,
 "nbformat_minor": 5
}
