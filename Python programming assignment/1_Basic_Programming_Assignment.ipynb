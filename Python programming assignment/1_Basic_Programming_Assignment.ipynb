{
 "cells": [
  {
   "cell_type": "code",
   "execution_count": null,
   "id": "4f53d4fb-a0de-4f79-972b-c4d616a4aada",
   "metadata": {},
   "outputs": [],
   "source": [
    "1. In the below elements which of them are values or an expression? eg:- values can be integer or string and expressions will\n",
    "be mathematical operators.\n",
    "*,'hello', -87.8,-,/,+,6\n"
   ]
  },
  {
   "cell_type": "code",
   "execution_count": null,
   "id": "dc794d21-0935-4ee5-bae0-f654de30c826",
   "metadata": {},
   "outputs": [],
   "source": [
    "Expressions: *,-,/,+\n",
    "values: 'hello', 87.8, 6"
   ]
  },
  {
   "cell_type": "code",
   "execution_count": null,
   "id": "90c2dccb-8a30-4fdb-8d09-0793f15dce5f",
   "metadata": {},
   "outputs": [],
   "source": [
    "2. What is the difference between string and variable?"
   ]
  },
  {
   "cell_type": "code",
   "execution_count": null,
   "id": "ff6bc352-878c-49f2-bbc7-dcf2efebbe2a",
   "metadata": {},
   "outputs": [],
   "source": [
    "Ans: A Variable is used to store of information, and a String is a type of information you would store in a Variable. \n",
    "A String is a group of characters or a single character usually enclosed in Double quotes \" \" or single quotes ' '\n"
   ]
  },
  {
   "cell_type": "code",
   "execution_count": null,
   "id": "285ea57a-415a-420e-a4db-a92870cff318",
   "metadata": {},
   "outputs": [],
   "source": [
    "3. Describe three different Data Types ?"
   ]
  },
  {
   "cell_type": "code",
   "execution_count": null,
   "id": "955812ce-c967-4fad-8694-43a8eb5f5170",
   "metadata": {},
   "outputs": [],
   "source": [
    "int , float and complex are 3 data type\n",
    "int - holds signed integers of non-limited length.eg 123\n",
    "float - holds floating decimal points and it's accurate up to 15 decimal places.eg 12.00\n",
    "complex - holds complex numbers.eg 22+j"
   ]
  },
  {
   "cell_type": "code",
   "execution_count": null,
   "id": "02735a1f-6ca6-4a7d-a29a-d3227cd6f715",
   "metadata": {},
   "outputs": [],
   "source": [
    "4. What is an expression made up of? What do all expressions do?"
   ]
  },
  {
   "cell_type": "code",
   "execution_count": null,
   "id": "704020ab-8006-4bbd-bb0c-736b9b21567a",
   "metadata": {},
   "outputs": [],
   "source": [
    "A combination of operands and operators is called an expression. The expression in Python produces some value or result after\n",
    "being interpreted by the Python interpreter. An expression in Python is a combination of operators and operands."
   ]
  },
  {
   "cell_type": "code",
   "execution_count": null,
   "id": "d87dcef6-4ed0-4e14-9644-33cb08a14d36",
   "metadata": {},
   "outputs": [],
   "source": [
    "5.This assignment statements, like spam = 10. What is the difference between an expression and a statement?\n"
   ]
  },
  {
   "cell_type": "code",
   "execution_count": null,
   "id": "aedaa1f5-1b28-4ed2-9aa3-17d4438d9bbd",
   "metadata": {},
   "outputs": [],
   "source": [
    "Ans:Expressions can be assigned or used as operands, while statements can only be declared. Statements create side effects to\n",
    "be useful, while expressions are values or execute to values. Expressions are unique in meaning, while statements are two-sided\n",
    "in execution."
   ]
  },
  {
   "cell_type": "code",
   "execution_count": null,
   "id": "70461d5e-cef9-4093-871b-bf832e0c64cc",
   "metadata": {},
   "outputs": [],
   "source": [
    "6.After running the following code, what does the variable bacon contain?\n",
    "bacon = 22\n",
    "bacon + 1"
   ]
  },
  {
   "cell_type": "code",
   "execution_count": null,
   "id": "01969b9f-6870-463b-b6c4-41365b52b4cd",
   "metadata": {},
   "outputs": [],
   "source": [
    "Ans: The variable bacon is set to 22 .The expression bacon + 1 does not reassign the value in bacon (that would the case if the expression is like bacon = bacon + 1 instead of bacon + 1)\n",
    "\n",
    "# Example Case#1\n",
    "bacon=22\n",
    "bacon+1\n",
    "print(bacon)\n",
    "22\n",
    "#Example Case#2\n",
    "bacon=22\n",
    "bacon=bacon+1 \n",
    "print(bacon)\n"
   ]
  },
  {
   "cell_type": "code",
   "execution_count": null,
   "id": "d35d09c1-8ba7-4574-9311-7946c4fbd3bb",
   "metadata": {},
   "outputs": [],
   "source": [
    "7.What should the values of the following two terms be?\n",
    "'spam'+'spamspam'\n",
    "'spam'*3"
   ]
  },
  {
   "cell_type": "code",
   "execution_count": null,
   "id": "2062a239-afa3-4188-bcfa-b215dcacd102",
   "metadata": {},
   "outputs": [],
   "source": [
    "'spam'+'spamspam'\n",
    "'spam'*3"
   ]
  },
  {
   "cell_type": "code",
   "execution_count": null,
   "id": "aa2e5ac3-382c-4747-9988-b23042f27aef",
   "metadata": {},
   "outputs": [],
   "source": [
    "8. Why is eggs a valid variable name while 100 is invalid?"
   ]
  },
  {
   "cell_type": "code",
   "execution_count": null,
   "id": "7c6a22a1-b943-4ed1-8c30-dc9737e151b9",
   "metadata": {},
   "outputs": [],
   "source": [
    "Ans:as per the python convention variable name should not start with number."
   ]
  },
  {
   "cell_type": "code",
   "execution_count": 1,
   "id": "9a55e1ce-33be-47e4-8cf1-04d887daf470",
   "metadata": {},
   "outputs": [
    {
     "ename": "SyntaxError",
     "evalue": "cannot assign to literal here. Maybe you meant '==' instead of '='? (2675123700.py, line 2)",
     "output_type": "error",
     "traceback": [
      "\u001b[0;36m  Cell \u001b[0;32mIn [1], line 2\u001b[0;36m\u001b[0m\n\u001b[0;31m    100=\"HELLO WORLD\"\u001b[0m\n\u001b[0m    ^\u001b[0m\n\u001b[0;31mSyntaxError\u001b[0m\u001b[0;31m:\u001b[0m cannot assign to literal here. Maybe you meant '==' instead of '='?\n"
     ]
    }
   ],
   "source": [
    "egg=\"hello world\"\n",
    "100=\"HELLO WORLD\""
   ]
  },
  {
   "cell_type": "code",
   "execution_count": null,
   "id": "1e04837e-d7f0-4818-a19f-778099f5ef11",
   "metadata": {},
   "outputs": [],
   "source": [
    "9.What three functions can be used to get the integer,floating-point number,or string version of a value?\n",
    "ans:int(),float(),str() are the three function to get integer,float and string value respectively"
   ]
  },
  {
   "cell_type": "code",
   "execution_count": 2,
   "id": "2b278ac1-add6-4074-921c-a475f804d176",
   "metadata": {},
   "outputs": [],
   "source": [
    "A=int(10),float(10),str(\"ten\")"
   ]
  },
  {
   "cell_type": "code",
   "execution_count": 4,
   "id": "5f7cfd5c-96b6-4f9f-82d1-700a9ace2a0b",
   "metadata": {},
   "outputs": [
    {
     "data": {
      "text/plain": [
       "(10, 10.0, 'ten')"
      ]
     },
     "execution_count": 4,
     "metadata": {},
     "output_type": "execute_result"
    }
   ],
   "source": [
    "A"
   ]
  },
  {
   "cell_type": "code",
   "execution_count": null,
   "id": "68f94197-ef9d-45e1-a774-dfc14a0c56e1",
   "metadata": {},
   "outputs": [],
   "source": [
    "10.Why does this expression cause an error? how can you fix it?\n",
    "'I have eaten ' + 99 + 'burritos.'\n",
    "ans: addition of the string and integer is not allowed , hence this expression couse error. to fix this we need to conver 99 into \n",
    "string ."
   ]
  },
  {
   "cell_type": "code",
   "execution_count": 1,
   "id": "d5f225f5-f5d5-4d54-814a-b81b2a584ef2",
   "metadata": {},
   "outputs": [
    {
     "data": {
      "text/plain": [
       "'I have eaten 99 burritos.'"
      ]
     },
     "execution_count": 1,
     "metadata": {},
     "output_type": "execute_result"
    }
   ],
   "source": [
    "'I have eaten ' + '99 ' + 'burritos.'"
   ]
  },
  {
   "cell_type": "code",
   "execution_count": null,
   "id": "3826eb3f-1d37-4cd0-a690-6b3a16fea649",
   "metadata": {},
   "outputs": [],
   "source": []
  }
 ],
 "metadata": {
  "kernelspec": {
   "display_name": "Python 3 (ipykernel)",
   "language": "python",
   "name": "python3"
  },
  "language_info": {
   "codemirror_mode": {
    "name": "ipython",
    "version": 3
   },
   "file_extension": ".py",
   "mimetype": "text/x-python",
   "name": "python",
   "nbconvert_exporter": "python",
   "pygments_lexer": "ipython3",
   "version": "3.10.6"
  }
 },
 "nbformat": 4,
 "nbformat_minor": 5
}
