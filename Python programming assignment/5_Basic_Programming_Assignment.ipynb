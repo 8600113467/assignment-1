{
 "cells": [
  {
   "cell_type": "code",
   "execution_count": null,
   "id": "f27fc19d-349c-4da8-9e5a-284e07e33ffa",
   "metadata": {},
   "outputs": [],
   "source": [
    "1. Write a Python Program to find LCM ?"
   ]
  },
  {
   "cell_type": "code",
   "execution_count": 51,
   "id": "f1c0e3b5-60e2-45aa-80b8-d52932a0a999",
   "metadata": {},
   "outputs": [
    {
     "name": "stdout",
     "output_type": "stream",
     "text": [
      "The L.C.M. is 216\n"
     ]
    }
   ],
   "source": [
    "def compute_lcm(x, y):\n",
    "   if x > y:\n",
    "       greater = x\n",
    "   else:\n",
    "       greater = y\n",
    "\n",
    "   while(True):\n",
    "       if((greater % x == 0) and (greater % y == 0)):\n",
    "           lcm = greater\n",
    "           break\n",
    "       greater += 1\n",
    "\n",
    "   return lcm\n",
    "\n",
    "num1 = 54\n",
    "num2 = 24\n",
    "\n",
    "print(\"The L.C.M. is\", compute_lcm(num1, num2))"
   ]
  },
  {
   "cell_type": "code",
   "execution_count": null,
   "id": "9f5754f1-5852-453a-84ae-647bf034e16d",
   "metadata": {},
   "outputs": [],
   "source": [
    "2. Write a Python Program to find HCF ?"
   ]
  },
  {
   "cell_type": "code",
   "execution_count": 50,
   "id": "31e8611a-240a-4409-9204-88d7f441fd1f",
   "metadata": {},
   "outputs": [
    {
     "name": "stdout",
     "output_type": "stream",
     "text": [
      "The H.C.F. is 6\n"
     ]
    }
   ],
   "source": [
    "def compute_hcf(x, y):\n",
    "    if x > y:\n",
    "        smaller = y\n",
    "    else:\n",
    "        smaller = x\n",
    "    for i in range(1, smaller+1):\n",
    "        if((x % i == 0) and (y % i == 0)):\n",
    "            hcf = i \n",
    "    return hcf\n",
    "\n",
    "num1 = 54 \n",
    "num2 = 24\n",
    "\n",
    "print(\"The H.C.F. is\", compute_hcf(num1, num2))\n"
   ]
  },
  {
   "cell_type": "code",
   "execution_count": null,
   "id": "fb43321b-7620-49b4-8b9d-d2a24fcaa8ad",
   "metadata": {},
   "outputs": [],
   "source": [
    "3. Write a Python Program to Convert Decimal to Binary, Octal and Hexadecimal ?"
   ]
  },
  {
   "cell_type": "code",
   "execution_count": 8,
   "id": "f9c689da-d275-450a-bcb1-4d6c9c5dac76",
   "metadata": {},
   "outputs": [
    {
     "name": "stdin",
     "output_type": "stream",
     "text": [
      "Enter a Number:  123343\n"
     ]
    },
    {
     "name": "stdout",
     "output_type": "stream",
     "text": [
      "Binary Number -> 0b11110000111001111\n",
      "Octal Number -> 0o360717\n",
      "Hexadecimal Number -> 0x1e1cf\n"
     ]
    }
   ],
   "source": [
    "def DecimalToOther():\n",
    "    num = int(input('Enter a Number: '))\n",
    "    print(f'Binary Number -> {bin(num)}')\n",
    "    print(f'Octal Number -> {oct(num)}')    \n",
    "    print(f'Hexadecimal Number -> {hex(num)}')    \n",
    "\n",
    "DecimalToOther()\n"
   ]
  },
  {
   "cell_type": "code",
   "execution_count": null,
   "id": "a4f5a634-32c3-4a9d-9dc6-9d99eaf73a9e",
   "metadata": {},
   "outputs": [],
   "source": [
    "4. Write a Python Program to Find the ASCII value of a Character ?"
   ]
  },
  {
   "cell_type": "code",
   "execution_count": 10,
   "id": "d3ae04d8-7269-4bb3-92ac-eb53228d7a8a",
   "metadata": {},
   "outputs": [],
   "source": [
    "def Ascii_value():\n",
    "    char=input('enter a input:')\n",
    "    print(f'ASCII value of {char} is {ord(char)}')\n",
    "    "
   ]
  },
  {
   "cell_type": "code",
   "execution_count": 11,
   "id": "6fad6e75-402b-4f6b-865e-4100cd2ef7a8",
   "metadata": {},
   "outputs": [
    {
     "name": "stdin",
     "output_type": "stream",
     "text": [
      "enter a input: a\n"
     ]
    },
    {
     "name": "stdout",
     "output_type": "stream",
     "text": [
      "ASCII value of a is 97\n"
     ]
    }
   ],
   "source": [
    "Ascii_value()"
   ]
  },
  {
   "cell_type": "code",
   "execution_count": 2,
   "id": "4d438167-0f13-43b6-932b-006a5d328344",
   "metadata": {},
   "outputs": [
    {
     "data": {
      "text/plain": [
       "97"
      ]
     },
     "execution_count": 2,
     "metadata": {},
     "output_type": "execute_result"
    }
   ],
   "source": [
    "ord('a')"
   ]
  },
  {
   "cell_type": "code",
   "execution_count": null,
   "id": "fbed29da-c6c4-41f5-b310-c1b3465cb3b7",
   "metadata": {},
   "outputs": [],
   "source": [
    "5. Write a Python Program to Make a Simple Calculator with 4 Basic Mathematical operations ?"
   ]
  },
  {
   "cell_type": "code",
   "execution_count": 46,
   "id": "a2123bde-3660-4c01-8087-0b3615f34b35",
   "metadata": {},
   "outputs": [],
   "source": [
    "def calculator(a,b):\n",
    "    print(f'addition of {a} and {b} is {a+b}')\n",
    "    print(f'substraction of {a} and {b} is {a-b}')\n",
    "    print(f'multiplication of {a} and {b} is {a*b}')\n",
    "    print(f'division of {a} and {b} is {a/b}')"
   ]
  },
  {
   "cell_type": "code",
   "execution_count": 48,
   "id": "2085523d-b15e-4028-93ca-10298e6bc9f3",
   "metadata": {},
   "outputs": [
    {
     "name": "stdout",
     "output_type": "stream",
     "text": [
      "addition of 20 and 10 is 30\n",
      "substraction of 20 and 10 is 10\n",
      "multiplication of 20 and 10 is 200\n",
      "division of 20 and 10 is 2.0\n"
     ]
    }
   ],
   "source": [
    "calculator(20,10)\n"
   ]
  },
  {
   "cell_type": "code",
   "execution_count": null,
   "id": "04a3fe19-d6ba-4f07-9566-5147c511256f",
   "metadata": {},
   "outputs": [],
   "source": []
  }
 ],
 "metadata": {
  "kernelspec": {
   "display_name": "Python 3 (ipykernel)",
   "language": "python",
   "name": "python3"
  },
  "language_info": {
   "codemirror_mode": {
    "name": "ipython",
    "version": 3
   },
   "file_extension": ".py",
   "mimetype": "text/x-python",
   "name": "python",
   "nbconvert_exporter": "python",
   "pygments_lexer": "ipython3",
   "version": "3.10.6"
  }
 },
 "nbformat": 4,
 "nbformat_minor": 5
}
