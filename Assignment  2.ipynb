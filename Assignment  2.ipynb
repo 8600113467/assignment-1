{
 "cells": [
  {
   "cell_type": "code",
   "execution_count": null,
   "id": "c3c9469d-0893-4e59-a0aa-274e811210b5",
   "metadata": {},
   "outputs": [],
   "source": [
    "NAME: AKSHAY PATIL\n",
    "TOPIC: BASIC PYTHON\n",
    "ASSIGNMENT NO.2\n"
   ]
  },
  {
   "cell_type": "code",
   "execution_count": null,
   "id": "6d3fb14b-8cc0-445b-9ca4-731c40d4cc89",
   "metadata": {},
   "outputs": [],
   "source": [
    "1.What are the two values of the Boolean data type? How do you write them?"
   ]
  },
  {
   "cell_type": "code",
   "execution_count": null,
   "id": "dca2f21a-ffab-4e7a-94d0-f9711ae54af6",
   "metadata": {},
   "outputs": [],
   "source": [
    "A boolean is a data type with two possible values true  or false ."
   ]
  },
  {
   "cell_type": "code",
   "execution_count": 5,
   "id": "13374a8c-8dfa-4a23-9dad-495105f3f951",
   "metadata": {},
   "outputs": [
    {
     "data": {
      "text/plain": [
       "False"
      ]
     },
     "execution_count": 5,
     "metadata": {},
     "output_type": "execute_result"
    }
   ],
   "source": [
    "5 > 7"
   ]
  },
  {
   "cell_type": "code",
   "execution_count": 6,
   "id": "8e2ed095-4209-411f-8225-c47d89045266",
   "metadata": {},
   "outputs": [
    {
     "data": {
      "text/plain": [
       "bool"
      ]
     },
     "execution_count": 6,
     "metadata": {},
     "output_type": "execute_result"
    }
   ],
   "source": [
    "type (5 > 7)"
   ]
  },
  {
   "cell_type": "code",
   "execution_count": 7,
   "id": "c9772bfa-8084-483b-bdfe-d4e387a6ad48",
   "metadata": {},
   "outputs": [
    {
     "data": {
      "text/plain": [
       "True"
      ]
     },
     "execution_count": 7,
     "metadata": {},
     "output_type": "execute_result"
    }
   ],
   "source": [
    "5 < 7"
   ]
  },
  {
   "cell_type": "code",
   "execution_count": 8,
   "id": "c63353bd-c733-4268-9e40-b5f09e36a6c5",
   "metadata": {},
   "outputs": [
    {
     "data": {
      "text/plain": [
       "bool"
      ]
     },
     "execution_count": 8,
     "metadata": {},
     "output_type": "execute_result"
    }
   ],
   "source": [
    "type(5 < 7)"
   ]
  },
  {
   "cell_type": "code",
   "execution_count": null,
   "id": "1cea4154-70dd-4947-b214-3e7c18082593",
   "metadata": {},
   "outputs": [],
   "source": [
    "2. What are the three different types of Boolean operators?"
   ]
  },
  {
   "cell_type": "code",
   "execution_count": null,
   "id": "eaf32092-944a-4f2a-91bd-4c083aa40887",
   "metadata": {},
   "outputs": [],
   "source": [
    "there are three bolean operator which is and , or , not"
   ]
  },
  {
   "cell_type": "code",
   "execution_count": 1,
   "id": "517f799a-382a-4c33-a8a6-a94e47845695",
   "metadata": {},
   "outputs": [
    {
     "data": {
      "text/plain": [
       "True"
      ]
     },
     "execution_count": 1,
     "metadata": {},
     "output_type": "execute_result"
    }
   ],
   "source": [
    "x = 10 # RETURN TRUE IF BOTH VALUES ARE TRUE \n",
    "\n",
    "x > 5 and x < 15"
   ]
  },
  {
   "cell_type": "code",
   "execution_count": 2,
   "id": "6d9a6389-fea2-4ac0-b151-a0228096b82f",
   "metadata": {},
   "outputs": [
    {
     "data": {
      "text/plain": [
       "True"
      ]
     },
     "execution_count": 2,
     "metadata": {},
     "output_type": "execute_result"
    }
   ],
   "source": [
    "x > 5  or x < 8 # RETURN TRUE IF EITHER OF THE VALUE IS TRUE"
   ]
  },
  {
   "cell_type": "code",
   "execution_count": 4,
   "id": "a598e830-2da4-47a5-af15-da04293ced0f",
   "metadata": {},
   "outputs": [
    {
     "data": {
      "text/plain": [
       "True"
      ]
     },
     "execution_count": 4,
     "metadata": {},
     "output_type": "execute_result"
    }
   ],
   "source": [
    "not (4 > x ) #CHECKING NEGATION OF VARIABLES"
   ]
  },
  {
   "cell_type": "code",
   "execution_count": null,
   "id": "fdf98b3f-c680-4166-be99-7c89a6fcdf53",
   "metadata": {},
   "outputs": [],
   "source": [
    "3. Make a list of each Boolean operator truth tables (i.e. every possible combination of Boolean\n",
    "values for the operator and what it evaluate )."
   ]
  },
  {
   "cell_type": "code",
   "execution_count": null,
   "id": "96ac4182-4d8a-48d3-a61f-ca1117862651",
   "metadata": {},
   "outputs": [],
   "source": [
    "POSSIBLE OUTCOMES OF AND OPERATOR IN BOOLEN\n",
    "Statement 1      Statement 2        Output\n",
    "True              True               True\n",
    "True              False              False\n",
    "False             True               False\n",
    "False             False              False\n",
    "\n",
    "POSSIBLE OUTCOMES OF OR OPERATOR IN BOOLEN \n",
    "\n",
    "Statement 1      Statement 2        Output\n",
    "True              True               True\n",
    "True              False              True\n",
    "False             True               True\n",
    "False             False              False\n",
    "\n",
    "POSSIBLE OUTCOMES OF NOT OPERATOR IN BOOLEN \n",
    "\n",
    "If statement is true its gives false\n",
    "If statement is false it gives  true"
   ]
  },
  {
   "cell_type": "code",
   "execution_count": null,
   "id": "19c3bf85-aa30-49d1-b5b0-99f623da1874",
   "metadata": {},
   "outputs": [],
   "source": [
    "4. What are the values of the following expressions?\n",
    "(5 > 4) and (3 == 5)\n",
    "not (5 > 4)\n",
    "(5 > 4) or (3 == 5)\n",
    "not ((5 > 4) or (3 == 5))\n",
    "(True and True) and (True == False)\n",
    "(not False) or (not True)"
   ]
  },
  {
   "cell_type": "code",
   "execution_count": 1,
   "id": "58e35bd6-32a8-41bd-810e-d8b03917253f",
   "metadata": {},
   "outputs": [
    {
     "data": {
      "text/plain": [
       "False"
      ]
     },
     "execution_count": 1,
     "metadata": {},
     "output_type": "execute_result"
    }
   ],
   "source": [
    "(5 > 4) and (3 == 5) # False bcoz both statement should be True"
   ]
  },
  {
   "cell_type": "code",
   "execution_count": 2,
   "id": "00764d4e-5522-4375-98bf-d6fcdb12a096",
   "metadata": {},
   "outputs": [
    {
     "data": {
      "text/plain": [
       "False"
      ]
     },
     "execution_count": 2,
     "metadata": {},
     "output_type": "execute_result"
    }
   ],
   "source": [
    "not (5 > 4) # giving negation of true "
   ]
  },
  {
   "cell_type": "code",
   "execution_count": 3,
   "id": "b5a500b7-87fe-4b5d-bb02-6a9b98ef8f25",
   "metadata": {},
   "outputs": [
    {
     "data": {
      "text/plain": [
       "True"
      ]
     },
     "execution_count": 3,
     "metadata": {},
     "output_type": "execute_result"
    }
   ],
   "source": [
    "(5 > 4) or (3 == 5) # either of the statement is true"
   ]
  },
  {
   "cell_type": "code",
   "execution_count": 4,
   "id": "a28693db-67e8-4d9c-8a2f-c780a58be270",
   "metadata": {},
   "outputs": [
    {
     "data": {
      "text/plain": [
       "False"
      ]
     },
     "execution_count": 4,
     "metadata": {},
     "output_type": "execute_result"
    }
   ],
   "source": [
    "not ((5 > 4) or (3 == 5)) # negation of OR BOOLEAN value"
   ]
  },
  {
   "cell_type": "code",
   "execution_count": 5,
   "id": "b3fd6bd3-6dd8-4b60-b7de-bff1c4970656",
   "metadata": {},
   "outputs": [
    {
     "data": {
      "text/plain": [
       "False"
      ]
     },
     "execution_count": 5,
     "metadata": {},
     "output_type": "execute_result"
    }
   ],
   "source": [
    "(True and True) and (True == False) # bcoz second statement is false"
   ]
  },
  {
   "cell_type": "code",
   "execution_count": 6,
   "id": "7637dd24-5a42-4073-b1b2-7eaf439e07d9",
   "metadata": {},
   "outputs": [
    {
     "data": {
      "text/plain": [
       "True"
      ]
     },
     "execution_count": 6,
     "metadata": {},
     "output_type": "execute_result"
    }
   ],
   "source": [
    "(not False) or (not True) # either of the statement is true"
   ]
  },
  {
   "cell_type": "code",
   "execution_count": null,
   "id": "af5250ab-8b75-4d1c-aa7b-d0d9dcf30684",
   "metadata": {},
   "outputs": [],
   "source": [
    "5. What are the six comparison operators?\n",
    "Equal a == b\n",
    "Not equal  x != y\n",
    "greter than  x > y\n",
    "less than  x < y \n",
    "greater than or equal to x >= y\n",
    "less than or equal to  x <= y "
   ]
  },
  {
   "cell_type": "code",
   "execution_count": null,
   "id": "d58f002f-68e7-457f-98ed-de7dfb1bf1b2",
   "metadata": {},
   "outputs": [],
   "source": [
    "Operator\n",
    "==\tEqual\tx == y\t\n",
    "!=\tNot equal\tx != y\t\n",
    ">\tGreater than\tx > y\t\n",
    "<\tLess than\tx < y\t\n",
    ">=\tGreater than or equal to\tx >= y\t\n",
    "<=\tLess than or equal to\tx <= y"
   ]
  },
  {
   "cell_type": "code",
   "execution_count": null,
   "id": "ea8e5f4f-5707-41e8-9900-9972b7f15413",
   "metadata": {},
   "outputs": [],
   "source": [
    "6. How do you tell the difference between the equal to and assignment operators?Describe a\n",
    "condition and when you would use one.\n",
    " ans: An assign operator (=) assign a value to variable and equal to operator (==) check whether value on both side carries \n",
    "    equal value"
   ]
  },
  {
   "cell_type": "code",
   "execution_count": 1,
   "id": "48648b04-2565-4ef5-ac89-59df2fe11ed1",
   "metadata": {},
   "outputs": [],
   "source": [
    "x =5 # assign value to x"
   ]
  },
  {
   "cell_type": "code",
   "execution_count": 2,
   "id": "293bdcd2-7c49-4772-8ffe-590b1b3621e2",
   "metadata": {},
   "outputs": [
    {
     "data": {
      "text/plain": [
       "True"
      ]
     },
     "execution_count": 2,
     "metadata": {},
     "output_type": "execute_result"
    }
   ],
   "source": [
    "5 == 5 # return true if  both sides are equal"
   ]
  },
  {
   "cell_type": "code",
   "execution_count": 3,
   "id": "17448774-6d5e-430a-a1c1-157d86d3ad38",
   "metadata": {},
   "outputs": [
    {
     "ename": "IndentationError",
     "evalue": "expected an indented block after 'if' statement on line 3 (255618026.py, line 4)",
     "output_type": "error",
     "traceback": [
      "\u001b[0;36m  Cell \u001b[0;32mIn [3], line 4\u001b[0;36m\u001b[0m\n\u001b[0;31m    print('eggs')\u001b[0m\n\u001b[0m    ^\u001b[0m\n\u001b[0;31mIndentationError\u001b[0m\u001b[0;31m:\u001b[0m expected an indented block after 'if' statement on line 3\n"
     ]
    }
   ],
   "source": [
    "#7. Identify the three blocks in this code:\n",
    "spam = 0\n",
    "if spam == 10:\n",
    "print('eggs')\n",
    "if spam > 5:\n",
    "print('bacon')\n",
    "else:\n",
    "print('ham')\n",
    "print('spam')\n",
    "print('spam')\n",
    "ans:"
   ]
  },
  {
   "cell_type": "code",
   "execution_count": 11,
   "id": "d93af6ec-4e5e-49ef-ac5b-e54404d13167",
   "metadata": {},
   "outputs": [
    {
     "name": "stdout",
     "output_type": "stream",
     "text": [
      "ham\n",
      "spam\n",
      "spam\n"
     ]
    }
   ],
   "source": [
    "#There is 3 blocks of code,given below\n",
    "\n",
    "spam = 0\n",
    "if spam == 10:    # first if block\n",
    "    print('eggs')\n",
    "if spam > 5:       # second if block\n",
    "    print('bacon')\n",
    "else:               # else block\n",
    "    print('ham')\n",
    "    \n",
    "print('spam')\n",
    "print('spam')\n"
   ]
  },
  {
   "cell_type": "code",
   "execution_count": null,
   "id": "acd159e3-9e81-4456-81c7-974922deca12",
   "metadata": {},
   "outputs": [],
   "source": [
    "8. Write code that prints Hello if 1 is stored in spam, prints Howdy if 2 is stored in spam,\n",
    "and prints Greetings! if anything else is stored in spam"
   ]
  },
  {
   "cell_type": "code",
   "execution_count": 7,
   "id": "0dea4379-b842-45a8-9201-30f0513293a1",
   "metadata": {},
   "outputs": [
    {
     "name": "stdin",
     "output_type": "stream",
     "text": [
      " 1\n"
     ]
    },
    {
     "name": "stdout",
     "output_type": "stream",
     "text": [
      "hello\n"
     ]
    }
   ],
   "source": [
    "spam = int(input())\n",
    "\n",
    "if spam == 1:\n",
    "    print(\"hello\")\n",
    "elif spam == 2:\n",
    "    print(\"hawdy\")\n",
    "else:\n",
    "    print(\"Greetings!\" )"
   ]
  },
  {
   "cell_type": "code",
   "execution_count": 8,
   "id": "62b744ec-d435-4e29-91f9-6bdd50872804",
   "metadata": {},
   "outputs": [
    {
     "name": "stdin",
     "output_type": "stream",
     "text": [
      " 2\n"
     ]
    },
    {
     "name": "stdout",
     "output_type": "stream",
     "text": [
      "hawdy\n"
     ]
    }
   ],
   "source": [
    "spam = int(input())\n",
    "\n",
    "if spam == 1:\n",
    "    print(\"hello\")\n",
    "elif spam == 2:\n",
    "    print(\"hawdy\")\n",
    "else:\n",
    "    print(\"Greetings!\" )"
   ]
  },
  {
   "cell_type": "code",
   "execution_count": 9,
   "id": "ae06fe4d-ecaf-41bd-b345-82b653987abb",
   "metadata": {},
   "outputs": [
    {
     "name": "stdin",
     "output_type": "stream",
     "text": [
      " 5\n"
     ]
    },
    {
     "name": "stdout",
     "output_type": "stream",
     "text": [
      "Greetings!\n"
     ]
    }
   ],
   "source": [
    "spam = int(input())\n",
    "\n",
    "if spam == 1:\n",
    "    print(\"hello\")\n",
    "elif spam == 2:\n",
    "    print(\"hawdy\")\n",
    "else:\n",
    "    print(\"Greetings!\" )"
   ]
  },
  {
   "cell_type": "code",
   "execution_count": null,
   "id": "19ee9e79-460c-467b-9614-73c103f4b183",
   "metadata": {},
   "outputs": [],
   "source": [
    "9.If your programme is stuck in an endless loop, what keys you’ll press? \n",
    "ans: ctr + c use to abort the running code. \n",
    "we use break to avoid infinite loop"
   ]
  },
  {
   "cell_type": "code",
   "execution_count": null,
   "id": "d985b492-a53f-4621-87ba-4612332e3e3a",
   "metadata": {},
   "outputs": [],
   "source": [
    "10. How can you tell the difference between break and continue?"
   ]
  },
  {
   "cell_type": "code",
   "execution_count": null,
   "id": "50ed420c-4854-44b7-a7a3-74daefdcc3bc",
   "metadata": {},
   "outputs": [],
   "source": [
    "Break statement stops the entire process of the loop. Continue statement only stops the current iteration of the loop.\n",
    "Break also terminates the remaining iterations. Continue doesn't terminate the next iterations; it resumes with the \n",
    "successive iterations"
   ]
  },
  {
   "cell_type": "code",
   "execution_count": null,
   "id": "3d16744b-4497-49e7-be4d-5642144b2181",
   "metadata": {},
   "outputs": [],
   "source": [
    "11. In a for loop, what is the difference between range(10), range(0, 10), and range(0, 10, 1)?\n"
   ]
  },
  {
   "cell_type": "code",
   "execution_count": null,
   "id": "9849d6f5-c5ae-4b1a-aeae-1a36c2cb06d2",
   "metadata": {},
   "outputs": [],
   "source": [
    "syntax of range ;\n",
    "range(start , stop , end )\n",
    "first position indicating the start of range\n",
    "second position indicating the end of range \n",
    "third position indicating incremental steps\n"
   ]
  },
  {
   "cell_type": "code",
   "execution_count": 7,
   "id": "1752ff26-6af3-45fc-ac5e-5cd9b34c2777",
   "metadata": {},
   "outputs": [
    {
     "name": "stdout",
     "output_type": "stream",
     "text": [
      "1\n",
      "3\n",
      "5\n",
      "7\n",
      "9\n"
     ]
    }
   ],
   "source": [
    "for i in range (1 ,11,2):\n",
    "    print (i)\n",
    "    "
   ]
  },
  {
   "cell_type": "code",
   "execution_count": null,
   "id": "513501aa-922e-45a8-bc88-7c3c1f379d45",
   "metadata": {},
   "outputs": [],
   "source": [
    "12. Write a short program that prints the numbers 1 to 10 using a for loop. Then write an equivalent program that\n",
    "prints the numbers 1 to 10 using a while loop."
   ]
  },
  {
   "cell_type": "code",
   "execution_count": 12,
   "id": "7f1e3ec2-5121-46d7-88fd-f367f3965817",
   "metadata": {},
   "outputs": [
    {
     "name": "stdout",
     "output_type": "stream",
     "text": [
      "[1, 2, 3, 4, 5, 6, 7, 8, 9, 10]\n"
     ]
    }
   ],
   "source": [
    "l =[]\n",
    "for i in range (1,11):\n",
    "    l.append (i)\n",
    "print(l)"
   ]
  },
  {
   "cell_type": "code",
   "execution_count": 25,
   "id": "55b625f8-750b-43c5-8321-e4a5b7da5628",
   "metadata": {},
   "outputs": [
    {
     "name": "stdout",
     "output_type": "stream",
     "text": [
      "1\n",
      "2\n",
      "3\n",
      "4\n",
      "5\n",
      "6\n",
      "7\n",
      "8\n",
      "9\n",
      "10\n"
     ]
    }
   ],
   "source": [
    "l = 1\n",
    "while l <=10 :\n",
    "    print(l)\n",
    "    l += 1\n"
   ]
  },
  {
   "cell_type": "code",
   "execution_count": null,
   "id": "17762f77-a1f0-4aae-a681-72e5054945f4",
   "metadata": {},
   "outputs": [],
   "source": [
    "13. If you had a function named bacon() inside a module named spam, how would you call it after importing spam?\n",
    "ans: we can call as spam.bacon()"
   ]
  },
  {
   "cell_type": "code",
   "execution_count": null,
   "id": "808a58d0-876e-494d-a961-29e0ee325d48",
   "metadata": {},
   "outputs": [],
   "source": []
  }
 ],
 "metadata": {
  "kernelspec": {
   "display_name": "Python 3 (ipykernel)",
   "language": "python",
   "name": "python3"
  },
  "language_info": {
   "codemirror_mode": {
    "name": "ipython",
    "version": 3
   },
   "file_extension": ".py",
   "mimetype": "text/x-python",
   "name": "python",
   "nbconvert_exporter": "python",
   "pygments_lexer": "ipython3",
   "version": "3.10.6"
  }
 },
 "nbformat": 4,
 "nbformat_minor": 5
}
