{
 "cells": [
  {
   "cell_type": "code",
   "execution_count": null,
   "id": "fc1c3ea7-fd65-4dfd-be22-33c24e5d012b",
   "metadata": {},
   "outputs": [],
   "source": [
    "Assignment 9 Solutions\n",
    "1.To what does a relative path refer ?\n",
    "Ans: The relative path is the path to some file with respect to your current working directory (PWD).\n",
    "For example: if Absolute path to a file called stuff.txt is: C:/users/admin/docs/stuff.txt If my PWD is C:/users/admin/ , then the relative path to stuff.txt would be: docs/stuff.txt\n",
    "Note: PWD + relative path = absolute path"
   ]
  },
  {
   "cell_type": "code",
   "execution_count": null,
   "id": "6e115e61-92d6-4b11-a0f9-f15f012447db",
   "metadata": {},
   "outputs": [],
   "source": [
    "2.Where does an absolute path start with your Operating System ?\n",
    "Ans: In Linux based systems the absolute path starts with /. Where as in Windows based systems absolute path starts with C:\n"
   ]
  },
  {
   "cell_type": "code",
   "execution_count": null,
   "id": "cc0cd096-287e-4d85-a960-16a77d9ef6ff",
   "metadata": {},
   "outputs": [],
   "source": [
    "3.What does the functions os.getcwd() and os.chdir() do ?\n",
    "Ans: os.getcwd() method tells us the location of current working directory (CWD).\n",
    "Whereas os.chdir() method in Python used to change the current working directory to specified path.\n",
    "\n"
   ]
  },
  {
   "cell_type": "code",
   "execution_count": null,
   "id": "1c4c1737-90cf-444e-a2a6-1c3366f62917",
   "metadata": {},
   "outputs": [],
   "source": [
    "4.What are . and .. folders ?\n",
    "Ans: . Represents the Current Directory Whereas .. Represents the Parent Directory of the Current Directory\n",
    "For Example: if the below path is my absolute path:\n",
    "C:\\\\Users\\\\vishnu\\\\Documents\\\\iNeuron-Assignments\\\\Python Basic Assignment\n",
    "Then . represents the path C:\\\\Users\\\\vishnu\\\\Documents\\\\iNeuron-Assignments\\\\Python Basic Assignment\n",
    "Where as .. represents the path C:\\\\Users\\\\vishnu\\\\Documents\\\\iNeuron-Assignments"
   ]
  },
  {
   "cell_type": "code",
   "execution_count": null,
   "id": "c1a80278-db28-4c20-a946-10077049cd95",
   "metadata": {},
   "outputs": [],
   "source": [
    "5.In C:\\bacon\\eggs\\spam.txt which part is the dir name and which part is the base name ?\n",
    "Ans: For C:\\bacon\\eggs\\spam.txt\n",
    "The dir name is C:\\\\bacon\\\\eggs\n",
    "The Base name is spam.txt\n",
    "\n",
    "import os\n",
    "path = r'C:\\bacon\\eggs\\spam.txt'\n",
    "print(os.path.dirname(path))\n",
    "print(os.path.basename(path))\n",
    "C:\\bacon\\eggs\n",
    "spam.txt"
   ]
  },
  {
   "cell_type": "code",
   "execution_count": 8,
   "id": "64d6ba62-c76f-41e8-8afc-dc605b4699cf",
   "metadata": {},
   "outputs": [
    {
     "name": "stdout",
     "output_type": "stream",
     "text": [
      "\n",
      "C:\\bacon\\eggs\\spam.txt\n"
     ]
    }
   ],
   "source": [
    "\n",
    "import os.path\n",
    "path = r'C:\\bacon\\eggs\\spam.txt'\n",
    "print(os.path.dirname(path))\n",
    "print(os.path.basename(path))"
   ]
  },
  {
   "cell_type": "code",
   "execution_count": 9,
   "id": "4b06d4d8-db3f-4376-a7d5-b6f035dd6295",
   "metadata": {},
   "outputs": [
    {
     "data": {
      "text/plain": [
       "''"
      ]
     },
     "execution_count": 9,
     "metadata": {},
     "output_type": "execute_result"
    }
   ],
   "source": [
    "os.path.dirname(path)"
   ]
  },
  {
   "cell_type": "code",
   "execution_count": null,
   "id": "8221112f-f4dd-4fc7-8c8f-c8c8d2c53a78",
   "metadata": {},
   "outputs": [],
   "source": [
    "6.What are the three mode arguments that can be passed to the open() function ?\n",
    "Ans: A file can be Accessed in python using open() function. open function takes two arguments filename and mode of operation (optional). if mode is not provided the default mode of opening is read mode\n",
    "So, the syntax being: open(filename, mode)\n",
    "\n",
    "‘r’ – Read Mode: This is the default mode for open(). The file is opened and a pointer is positioned at the beginning of the file’s content.\n",
    "‘w’ – Write Mode: Using this mode will overwrite any existing content in a file. If the given file does not exist, a new one will be created.\n",
    "‘r+’ – Read/Write Mode: Use this mode if you need to simultaneously read and write to a file.\n"
   ]
  },
  {
   "cell_type": "code",
   "execution_count": null,
   "id": "35a722b4-040e-4896-999d-1551814b041e",
   "metadata": {},
   "outputs": [],
   "source": [
    "7.What happens if an existing file is opened in write mode ?\n",
    "Ans: Using this mode will overwrite any existing content in a file. If the given file does not exist, a new one will be created.\n"
   ]
  },
  {
   "cell_type": "code",
   "execution_count": null,
   "id": "59bf27fa-a848-49c1-9837-a8c422b1983e",
   "metadata": {},
   "outputs": [],
   "source": [
    "8.How do you tell the difference between read() and readlines() ?\n",
    "Ans:\n",
    "The read() method returns the specified number of bytes from the file.\n",
    "The readlines() method returns a list containing each line in the file as a list item"
   ]
  },
  {
   "cell_type": "code",
   "execution_count": null,
   "id": "104fa5ee-2627-4720-8325-340dbd5e25a2",
   "metadata": {},
   "outputs": [],
   "source": [
    "9.What data structure does a shelf value resemble ?\n",
    "A shelf value resembles a dictionary value; it has keys and values, along with keys() and values() methods\n",
    "that work similarly to the dictionary methods of the same names."
   ]
  },
  {
   "cell_type": "code",
   "execution_count": null,
   "id": "1477266b-9e5e-4122-ae3a-111146ea733c",
   "metadata": {},
   "outputs": [],
   "source": [
    "\n",
    "Assignment 9 Solutions\n",
    "\n",
    "7.What happens if an existing file is opened in write mode ?\n",
    "Ans: Using this mode will overwrite any existing content in a file. If the given file does not exist, a new one will be created.\n",
    "\n",
    "8.How do you tell the difference between read() and readlines() ?\n",
    "Ans: The main difference is that read() will read the whole file at once and then print out the first characters that take up as many bytes as you specify in the parenthesis\n",
    "\n",
    "Whereas the readline() that will read and print out only the first characters that take up as many bytes as you specify in the parenthesis. You may want to use readline() when you're reading files that are too big for your RAM.\n",
    "The read() would treat each character in the file separately, meaning that the iteration would happen for every character.\n",
    "The readline() function, on the other hand, only reads a single line of the file. This means that if the first line of the file were three lines long, the readline() function would only parse (or iterate/operate) on the first line of the file.\n",
    "9.What data structure does a shelf value resemble ?\n",
    "Ans: it contains key and values it represents dictionary."
   ]
  }
 ],
 "metadata": {
  "kernelspec": {
   "display_name": "Python 3 (ipykernel)",
   "language": "python",
   "name": "python3"
  },
  "language_info": {
   "codemirror_mode": {
    "name": "ipython",
    "version": 3
   },
   "file_extension": ".py",
   "mimetype": "text/x-python",
   "name": "python",
   "nbconvert_exporter": "python",
   "pygments_lexer": "ipython3",
   "version": "3.10.6"
  }
 },
 "nbformat": 4,
 "nbformat_minor": 5
}
