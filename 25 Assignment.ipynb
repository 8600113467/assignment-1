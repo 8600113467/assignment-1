{
 "cells": [
  {
   "cell_type": "code",
   "execution_count": null,
   "id": "cb61d67e-2fe3-4aef-ac30-6502ec6a5437",
   "metadata": {},
   "outputs": [],
   "source": [
    "1) . What is the difference between enclosing a list comprehension in square brackets and parentheses?"
   ]
  },
  {
   "cell_type": "code",
   "execution_count": null,
   "id": "249a26a3-0a8f-412c-a389-9e1287fc7ea6",
   "metadata": {},
   "outputs": [],
   "source": [
    "Ans: Enclosing a list comprehension in square brackets returns a list.but where as enclosing a list comprehension in \n",
    "parentheses returns a generator object"
   ]
  },
  {
   "cell_type": "code",
   "execution_count": null,
   "id": "cc0166cf-4142-4a87-b2a7-8fde92be6651",
   "metadata": {},
   "outputs": [],
   "source": [
    "2) What is the relationship between generators and iterators?\n"
   ]
  },
  {
   "cell_type": "code",
   "execution_count": null,
   "id": "b7f6ac0f-2112-4e15-a1e5-3e08b42cda9c",
   "metadata": {},
   "outputs": [],
   "source": [
    "An iterator is an object that contains a countable number of values.An iterator is an object that can be iterated upon, \n",
    "meaning that you can traverse through all the values.Technically, in Python, an iterator is an object which implements the \n",
    "iterator protocol, which consist of the methods __iter__() and __next__().\n",
    "a generator is a function that returns an iterator that produces a sequence of values when iterated over. Generators are \n",
    "useful when we want to produce a large sequence of values, but we don't want to store all of them in memory at once"
   ]
  },
  {
   "cell_type": "code",
   "execution_count": null,
   "id": "41b8bd8f-8243-4812-980e-8523a0039880",
   "metadata": {},
   "outputs": [],
   "source": [
    "3) What are the signs that a function is a generator function?\n",
    "Ans: A generator function uses a yield statement instead of a return statement. A generator function will always return\n",
    "a iterable object called generator. where as a normal function can return a string/list/tuple/dict/NoneType ... etc\n"
   ]
  },
  {
   "cell_type": "code",
   "execution_count": null,
   "id": "1e0f02d7-10c9-41e5-b964-0e055507d43d",
   "metadata": {},
   "outputs": [],
   "source": [
    "4) What is the purpose of a yield statement?\n",
    "Ans: The yield statement suspends function’s execution and sends a value back to the caller, but retains enough state to\n",
    "enable function to resume where it is left off. When resumed, the function continues execution immediately after the \n",
    "last yield run. This allows its code to produce a series of values over time, rather than computing them at once and \n",
    "sending them back like a list.\n",
    "\n",
    "The Yield keyword in Python is similar to a return statement used for returning values or objects in Python. However, \n",
    "there is a slight difference. The yield statement returns a generator object to the one who calls the function which \n",
    "contains yield, instead of simply returning a value."
   ]
  },
  {
   "cell_type": "code",
   "execution_count": null,
   "id": "5621712b-a905-40d6-a0d9-df4e5db8b194",
   "metadata": {},
   "outputs": [],
   "source": [
    "5) What is the relationship between map calls and list comprehensions? Make a comparison and contrast between the two ?\n",
    "Ans: The main differences between map calls and list comprehensiosn are:\n",
    "\n",
    "List comprehension is more concise and easier to read as compared to map.\n",
    "List comprehension allows filtering. In map, we have no such facility. For example, to print all odd numbers in range of 50, we can write [n for n in range(50) if n%2 != 0]. There is no alternate for it in map\n",
    "List comprehension are used when a list of results is required as final output.but map only returns a map object. it needs to be explicitly coverted to desired datatype.\n",
    "List comprehension is faster than map when we need to evaluate expressions that are too long or complicated to express\n",
    "Map is faster in case of calling an already defined function on a set of values"
   ]
  }
 ],
 "metadata": {
  "kernelspec": {
   "display_name": "Python 3 (ipykernel)",
   "language": "python",
   "name": "python3"
  },
  "language_info": {
   "codemirror_mode": {
    "name": "ipython",
    "version": 3
   },
   "file_extension": ".py",
   "mimetype": "text/x-python",
   "name": "python",
   "nbconvert_exporter": "python",
   "pygments_lexer": "ipython3",
   "version": "3.10.6"
  }
 },
 "nbformat": 4,
 "nbformat_minor": 5
}
