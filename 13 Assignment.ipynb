{
 "cells": [
  {
   "cell_type": "code",
   "execution_count": null,
   "id": "8ca76e9b-f04e-4e44-b156-95725b619c08",
   "metadata": {},
   "outputs": [],
   "source": [
    "1. What advantages do Excel spreadsheets have over CSV spreadsheets?\n",
    "Ans:Excel  file formats are better for storing and analysing complex data.\n",
    "data is more readable in excel than csv. it also perform many operation on data which is\n",
    "help in drawing specific conclusion\n"
   ]
  },
  {
   "cell_type": "code",
   "execution_count": null,
   "id": "83864fb2-52fa-4ef8-9a16-44a08a6a2d9c",
   "metadata": {},
   "outputs": [],
   "source": [
    "2.What do you pass to csv.reader() and csv.writer() to create reader and writer objects?\n",
    "import csv\n",
    "with open('File_name.csv','r') as file:\n",
    "    csv_file = csv.reader(file,delimiter=',')\n",
    "    for ele in csv_file:\n",
    "        print(ele)"
   ]
  },
  {
   "cell_type": "code",
   "execution_count": null,
   "id": "b5527198-5d72-4651-95eb-ad70bd1d1f7a",
   "metadata": {},
   "outputs": [],
   "source": [
    "3. What modes do File objects for reader and writer objects need to be opened in?\n",
    "Ans: For csv.reader(iterable_file_object), the file objects needed to be opened in read \n",
    "mode mode='r' Whereas for csv.writer(iterable_file_object) the file objects needed to be\n",
    "opened in write mode mode='w'\n"
   ]
  },
  {
   "cell_type": "code",
   "execution_count": null,
   "id": "e0fb5101-7828-4090-8bbb-ab077506cd04",
   "metadata": {},
   "outputs": [],
   "source": [
    "4. What method takes a list argument and writes it to a CSV file?\n",
    "Ans: csv.writer class provides two methods for writing to CSV. They are writerow() and \n",
    "writerows(). writerow() method writes a single row at a time. Whereas writerows() method \n",
    "is used to write multiple rows at a time."
   ]
  },
  {
   "cell_type": "code",
   "execution_count": null,
   "id": "57308e34-77db-4cf2-8515-c8d61f46a15d",
   "metadata": {},
   "outputs": [],
   "source": [
    "5. What do the keyword arguments delimiter and line terminator do?\n",
    "Ans:A CSV file stores data in rows and the values in each row is separated with a\n",
    "separator, also known as a delimiter. Although the file is defined as Comma Separated\n",
    "Values, the delimiter could be anything. The most common delimiters are: a comma (,), a\n",
    "semicolon (;), a tab (\\t), a space ( ) and a pipe (|)."
   ]
  },
  {
   "cell_type": "code",
   "execution_count": null,
   "id": "ad474016-6546-41a7-98a6-da6744d716d0",
   "metadata": {},
   "outputs": [],
   "source": [
    "6. What function takes a string of JSON data and returns a Python data structure?\n",
    "Ans: loads() method takes a string of JSON data and returns a Python data structure\n"
   ]
  },
  {
   "cell_type": "code",
   "execution_count": null,
   "id": "09ea7bb6-cea8-4a08-8b65-2f89f3ddd312",
   "metadata": {},
   "outputs": [],
   "source": [
    "\n",
    "\n",
    "\n",
    "# Example of json.loads() method\n",
    "import json\n",
    "my_details_json ='''{\n",
    "    \"Name\": \"Mano Vishnu\",\n",
    "    \"Qualification\": \"Bachelor of Technology\",\n",
    "    \"Stream\": \"Computer Science and Engineering\"\n",
    "}'''\n",
    "print(my_details_json)\n",
    "print(f'Type of my_details_json is {type(my_details_json)}')\n",
    "my_details = json.loads(my_details_json)\n",
    "print(my_details)\n",
    "print(f'Type of my_details is {type(my_details)}')\n",
    "{\n",
    "    \"Name\": \"Mano Vishnu\",\n",
    "    \"Qualification\": \"Bachelor of Technology\",\n",
    "    \"Stream\": \"Computer Science and Engineering\"\n",
    "}\n",
    "Type of my_details_json is <class 'str'>\n",
    "{'Name': 'Mano Vishnu', 'Qualification': 'Bachelor of Technology', 'Stream': 'Computer Science and Engineering'}\n",
    "Type of my_details is <class 'dict'>\n",
    "7. What function takes a Python data structure and returns a string of JSON data?\n",
    "Ans: dumps() method takes a python data structure and returns a string of JSON data\n",
    "\n",
    "# Example of json.dumps() method\n",
    "import json\n",
    "my_details = {\n",
    "    'Name':'Mano Vishnu',\n",
    "    'Stream':'Computer Science and Engineering',\n",
    "    'Qualification':'Bachelor of Technology'\n",
    "}\n",
    "print(my_details)\n",
    "print(f'Type of my_details is {type(my_details)}')\n",
    "my_details_json = json.dumps(my_details, indent=4, sort_keys=True)\n",
    "print(my_details_json)\n",
    "print(f'Type of my_details_json is {type(my_details_json)}')\n",
    "{'Name': 'Mano Vishnu', 'Stream': 'Computer Science and Engineering', 'Qualification': 'Bachelor of Technology'}\n",
    "Type of my_details is <class 'dict'>\n",
    "{\n",
    "    \"Name\": \"Mano Vishnu\",\n",
    "    \"Qualification\": \"Bachelor of Technology\",\n",
    "    \"Stream\": \"Computer Science and Engineering\"\n",
    "}\n",
    "Type of my_details_json is <class 'str'>"
   ]
  },
  {
   "cell_type": "code",
   "execution_count": null,
   "id": "7d179cc2-61de-4796-91fa-d98060576315",
   "metadata": {},
   "outputs": [],
   "source": []
  }
 ],
 "metadata": {
  "kernelspec": {
   "display_name": "Python 3 (ipykernel)",
   "language": "python",
   "name": "python3"
  },
  "language_info": {
   "codemirror_mode": {
    "name": "ipython",
    "version": 3
   },
   "file_extension": ".py",
   "mimetype": "text/x-python",
   "name": "python",
   "nbconvert_exporter": "python",
   "pygments_lexer": "ipython3",
   "version": "3.10.6"
  }
 },
 "nbformat": 4,
 "nbformat_minor": 5
}
