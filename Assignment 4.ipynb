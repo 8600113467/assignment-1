{
 "cells": [
  {
   "cell_type": "code",
   "execution_count": null,
   "id": "771a252d-e2a2-4b07-a6e9-5237b8c06ffa",
   "metadata": {},
   "outputs": [],
   "source": [
    "1.What exactly is [ ]?\n",
    "Ans: [] This is called empty list.we can add iteam in it.\n",
    "    "
   ]
  },
  {
   "cell_type": "code",
   "execution_count": null,
   "id": "ae924e6d-9bcc-4e9b-b21f-29736331704d",
   "metadata": {},
   "outputs": [],
   "source": [
    "\n",
    "2.In a list of values stored in a variable called spam, how would you assign the value 'hello' as the third\n",
    "value? (Assume [2, 4, 6, 8, 10] are in spam.)\n"
   ]
  },
  {
   "cell_type": "code",
   "execution_count": 1,
   "id": "418ad76d-0f1b-4745-832c-aeac56d0b875",
   "metadata": {},
   "outputs": [
    {
     "name": "stdout",
     "output_type": "stream",
     "text": [
      "[2, 4, 6, 8, 10]\n",
      "[2, 4, 'hello', 8, 10]\n"
     ]
    }
   ],
   "source": [
    "# example\n",
    "spam=[2,4,6,8,10]\n",
    "print(spam) # before updation\n",
    "spam[2]='hello'\n",
    "print(spam) #after updation"
   ]
  },
  {
   "cell_type": "code",
   "execution_count": null,
   "id": "5779245d-7b8a-4d49-b9c2-69d0369a6ad8",
   "metadata": {},
   "outputs": [],
   "source": [
    "Let's pretend the spam includes the list ['a','b','c',d'] for the next three queries."
   ]
  },
  {
   "cell_type": "code",
   "execution_count": null,
   "id": "c01b86b7-0f0e-49c6-9156-2e094e3123fc",
   "metadata": {},
   "outputs": [],
   "source": [
    "3. What is the value of spam[int(int('3'*2)//11)] ?\n",
    "Ans: 'd' \n",
    "#  we get 3 is equation value. as per indexing we got d as answer"
   ]
  },
  {
   "cell_type": "code",
   "execution_count": 3,
   "id": "9d9d4e28-1081-4aab-930d-49ccf85a4cd5",
   "metadata": {},
   "outputs": [
    {
     "data": {
      "text/plain": [
       "'d'"
      ]
     },
     "execution_count": 3,
     "metadata": {},
     "output_type": "execute_result"
    }
   ],
   "source": [
    "spam=['a','b','c','d']\n",
    "spam[int(int('3'*2)//11)]"
   ]
  },
  {
   "cell_type": "code",
   "execution_count": null,
   "id": "de8793af-d91e-44fe-8a8a-6c51f8f5841e",
   "metadata": {},
   "outputs": [],
   "source": [
    "4. What is the value of spam[-1]?\n",
    "Ans: 'd' \n",
    " # negative indexing"
   ]
  },
  {
   "cell_type": "code",
   "execution_count": 4,
   "id": "770d3d7a-7d0c-4fac-a3b2-64c49673c313",
   "metadata": {},
   "outputs": [
    {
     "data": {
      "text/plain": [
       "'d'"
      ]
     },
     "execution_count": 4,
     "metadata": {},
     "output_type": "execute_result"
    }
   ],
   "source": [
    "spam=['a','b','c','d']\n",
    "spam[-1] "
   ]
  },
  {
   "cell_type": "code",
   "execution_count": null,
   "id": "5012ec15-d8a3-47bb-88d2-eba59c833f00",
   "metadata": {},
   "outputs": [],
   "source": [
    "\n",
    "5. What is the value of spam[:2]?\n",
    "Ans: spam[:2] returns all elements in the list spam from 0 to 1 . and it exclude last number\n",
    "\n",
    "Let's pretend bacon has the list [3.14,'cat',11,'cat',True] for the next three question"
   ]
  },
  {
   "cell_type": "code",
   "execution_count": 9,
   "id": "d75f8b36-7c50-49fc-ad2d-24a040e88c7b",
   "metadata": {},
   "outputs": [
    {
     "name": "stdout",
     "output_type": "stream",
     "text": [
      "['a', 'b', 'c', 'd']\n"
     ]
    },
    {
     "data": {
      "text/plain": [
       "['a', 'b']"
      ]
     },
     "execution_count": 9,
     "metadata": {},
     "output_type": "execute_result"
    }
   ],
   "source": [
    "print(spam)\n",
    "(spam[:2])"
   ]
  },
  {
   "cell_type": "code",
   "execution_count": null,
   "id": "8169875a-c0f7-4d05-8320-151d223c39be",
   "metadata": {},
   "outputs": [],
   "source": [
    "\n",
    "Let's pretend bacon has the list [3.14,'cat',11,'cat',True] for the next three question"
   ]
  },
  {
   "cell_type": "code",
   "execution_count": 12,
   "id": "aa0d38ea-215a-4432-9df1-9e59bb96c798",
   "metadata": {},
   "outputs": [],
   "source": [
    "6. What is the value of bacon.index('cat')?\n",
    "Ans: The value of bacon.index('cat') is 1 # it will return index of first occurence cat\n"
   ]
  },
  {
   "cell_type": "code",
   "execution_count": 11,
   "id": "846cbcb9-9f6b-4c3c-a619-fde4fc2bc0fe",
   "metadata": {},
   "outputs": [
    {
     "data": {
      "text/plain": [
       "1"
      ]
     },
     "execution_count": 11,
     "metadata": {},
     "output_type": "execute_result"
    }
   ],
   "source": [
    "bacon=[3.14,'cat',11,'cat',True]\n",
    "bacon.index('cat')"
   ]
  },
  {
   "cell_type": "code",
   "execution_count": null,
   "id": "0a3cce9a-20f2-4bd0-a958-5bc27e8de385",
   "metadata": {},
   "outputs": [],
   "source": [
    "7. How does bacon.append(99) change the look of the list value in bacon?\n",
    "Ans: The append method adds new elements to the end of the list\n",
    "\n"
   ]
  },
  {
   "cell_type": "code",
   "execution_count": 5,
   "id": "2316d0ef-7701-485e-95c0-1c256a879cdf",
   "metadata": {},
   "outputs": [
    {
     "name": "stdout",
     "output_type": "stream",
     "text": [
      "before append [3.14, 'cat', 11, 'cat', True]\n",
      "after append [3.14, 'cat', 11, 'cat', True, 99]\n"
     ]
    }
   ],
   "source": [
    "bacon=[3.14,'cat',11,'cat',True]\n",
    "print(f'before append' ,bacon)\n",
    "bacon.append(99)\n",
    "print(f\"after append\",bacon)\n"
   ]
  },
  {
   "cell_type": "code",
   "execution_count": null,
   "id": "848ecebc-56c3-4b97-b6fa-1a48f59da1fd",
   "metadata": {},
   "outputs": [],
   "source": [
    "\n",
    "8. How does bacon.remove('cat') change the look of the list in bacon?\n",
    "Ans: The remove method removes the first occurence of the element in the list\n",
    "\n",
    "print(bacon)\n",
    "bacon.remove('cat')\n",
    "print(bacon)\n",
    "[3.14, 'cat', 11, 'cat', True, 99]\n",
    "[3.14, 11, 'cat', True, 99]"
   ]
  },
  {
   "cell_type": "code",
   "execution_count": 6,
   "id": "495b897d-1cc4-435a-9145-0cd9ccf17a1a",
   "metadata": {},
   "outputs": [
    {
     "name": "stdout",
     "output_type": "stream",
     "text": [
      "before remove [3.14, 'cat', 11, 'cat', True]\n",
      "after remove [3.14, 11, 'cat', True]\n"
     ]
    }
   ],
   "source": [
    "bacon=[3.14,'cat',11,'cat',True]\n",
    "print(f'before remove' ,bacon)\n",
    "bacon.remove(\"cat\")\n",
    "print(f\"after remove\",bacon)"
   ]
  },
  {
   "cell_type": "code",
   "execution_count": null,
   "id": "e05870b3-5fd8-4b75-bc41-384b71258416",
   "metadata": {},
   "outputs": [],
   "source": [
    "9.what are the list concatenation and list replication operations?\n",
    "Ans: The operator for list concatenation is ( + ). it use to merge two list\n",
    "     the operator for replication is ( * ). this use for multiply the list\n"
   ]
  },
  {
   "cell_type": "code",
   "execution_count": 4,
   "id": "ee12a60d-cecd-4fb1-a40c-311ee2139d31",
   "metadata": {},
   "outputs": [
    {
     "name": "stdout",
     "output_type": "stream",
     "text": [
      "[1, 2, 3, 4, 5, 'a', 'b', 'c', 'd']\n",
      "[1, 2, 3, 4, 5, 1, 2, 3, 4, 5]\n"
     ]
    }
   ],
   "source": [
    "list1 = [1,2,3,4,5]\n",
    "list2 = [\"a\",\"b\",\"c\",\"d\"]\n",
    "print(list1 + list2) # List Concatenation\n",
    "print(list1*2)       # List Replication"
   ]
  },
  {
   "cell_type": "code",
   "execution_count": null,
   "id": "9198cf00-d1aa-4d1a-bda8-3ea2b93b5006",
   "metadata": {},
   "outputs": [],
   "source": [
    "10.what is the difference between the list method append() and insert()?\n",
    "Ans: While append() will add values only to the end of a list, insert() can add them anywhere in the list.\n",
    "\n"
   ]
  },
  {
   "cell_type": "code",
   "execution_count": 1,
   "id": "d7cdb527-cc37-47c3-8a20-1e28746bfa9d",
   "metadata": {},
   "outputs": [
    {
     "name": "stdout",
     "output_type": "stream",
     "text": [
      "[1, 2, 3, 4, 5, 10]\n",
      "[1, 2, 3, 'data_science', 4, 5, 10]\n"
     ]
    }
   ],
   "source": [
    "list = [1,2,3,4,5]\n",
    "list.append(10)\n",
    "print(list)\n",
    "list.insert(3,'data_science')\n",
    "print(list)"
   ]
  },
  {
   "cell_type": "code",
   "execution_count": null,
   "id": "2f594d30-d646-4bf2-a6e4-7ac3dfbadc1a",
   "metadata": {},
   "outputs": [],
   "source": [
    "11. What are the two methods for removing items from a list?\n",
    "Ans: 1. del variable[index_number]. delate as per index of iteam\n",
    "     2.remove(). remove as per iteam name"
   ]
  },
  {
   "cell_type": "code",
   "execution_count": 10,
   "id": "b12839b6-f478-4582-bd7a-8b42aec4928c",
   "metadata": {},
   "outputs": [
    {
     "name": "stdout",
     "output_type": "stream",
     "text": [
      "[1, 2, 3, 4, 5, 6, 7]\n",
      "[1, 2, 4, 5, 6, 7]\n"
     ]
    }
   ],
   "source": [
    "list=[1,2,3,4,5,6,7] # \n",
    "print(list)\n",
    "del list[2]\n",
    "print(list)"
   ]
  },
  {
   "cell_type": "code",
   "execution_count": 11,
   "id": "9cecbe8a-da9c-482e-ab84-f492eb9fcf76",
   "metadata": {},
   "outputs": [
    {
     "name": "stdout",
     "output_type": "stream",
     "text": [
      "[1, 2, 4, 5, 6, 7]\n",
      "[1, 4, 5, 6, 7]\n"
     ]
    }
   ],
   "source": [
    "print(list)\n",
    "list.remove(2) \n",
    "print(list)"
   ]
  },
  {
   "cell_type": "code",
   "execution_count": null,
   "id": "fb9580a2-6a51-4c52-bd8a-b8d93ae7c470",
   "metadata": {},
   "outputs": [],
   "source": [
    "12. Describe how list values and string values are identical.\n",
    "Ans: Both lists and strings can be passed to len() function, have indexes and slices,\n",
    "be used in for loops, be concatenated or replicated, and be used with the in and not in operators.\n"
   ]
  },
  {
   "cell_type": "code",
   "execution_count": null,
   "id": "95cbe9d2-3368-4c62-a028-7424bc98ce04",
   "metadata": {},
   "outputs": [],
   "source": [
    "13. What's the difference between tuples and lists?\n",
    "Ans: Lists are Mutable, Indexable and Slicable. they can have values added, removed, or changed.\n",
    "Tuples are Immutable but Indexable and Slicable. the tuple values cannot be changed at all. Also, \n",
    "tuples are represented using parentheses, (), while lists use the square brackets, [].\n"
   ]
  },
  {
   "cell_type": "code",
   "execution_count": null,
   "id": "b0c3fab9-8ff5-42e7-a508-fbee3940ac63",
   "metadata": {},
   "outputs": [],
   "source": [
    "\n",
    "14. How do you type a tuple value that only contains the integer 42?\n",
    "Ans:(42,) (The trailing comma is mandatory. otherwise its considered as a int by python Interpreter)"
   ]
  },
  {
   "cell_type": "code",
   "execution_count": null,
   "id": "a93d981f-5627-4627-8d3b-4942413b0396",
   "metadata": {},
   "outputs": [],
   "source": [
    "15. How do you get a list value's tuple form? How do you get a tuple value's list form?\n",
    "Ans: The tuple() and list() functions, respectively are used to convert a list to tuple and vice versa"
   ]
  },
  {
   "cell_type": "code",
   "execution_count": null,
   "id": "52c87ea5-6ebe-4f35-84cc-cd57efe6fbc3",
   "metadata": {},
   "outputs": [],
   "source": [
    "16. Variables that \"contain\" list values are not necessarily lists themselves. Instead, what do they contain?\n",
    "Ans: They contain references to list values."
   ]
  },
  {
   "cell_type": "code",
   "execution_count": null,
   "id": "3e1323c4-6c04-4cc3-b0e0-5c63427a6e82",
   "metadata": {},
   "outputs": [],
   "source": [
    "17. How do you distinguish between copy.copy() and copy.deepcopy()?\n",
    "Ans: The copy.copy() function will do a shallow copy of a list, while the copy.deepcopy() function\n",
    "will do a deep copy of a list. That is, only copy.deepcopy() will duplicate any lists inside the list."
   ]
  },
  {
   "cell_type": "code",
   "execution_count": null,
   "id": "0570bb6e-7d0a-468f-8296-6b6275d55d5f",
   "metadata": {},
   "outputs": [],
   "source": []
  }
 ],
 "metadata": {
  "kernelspec": {
   "display_name": "Python 3 (ipykernel)",
   "language": "python",
   "name": "python3"
  },
  "language_info": {
   "codemirror_mode": {
    "name": "ipython",
    "version": 3
   },
   "file_extension": ".py",
   "mimetype": "text/x-python",
   "name": "python",
   "nbconvert_exporter": "python",
   "pygments_lexer": "ipython3",
   "version": "3.10.6"
  }
 },
 "nbformat": 4,
 "nbformat_minor": 5
}
