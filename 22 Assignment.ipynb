{
 "cells": [
  {
   "cell_type": "code",
   "execution_count": null,
   "id": "d41f34a2-6020-47b2-91d7-db25a36ca07c",
   "metadata": {},
   "outputs": [],
   "source": [
    "1. What is the result of the code, and explain?\n",
    ">>> X = 'iNeuron'\n",
    ">>> def func():\n",
    "print(X)\n",
    ">>> func()"
   ]
  },
  {
   "cell_type": "code",
   "execution_count": null,
   "id": "a1928de3-2347-4817-ba1b-f3c23b13d571",
   "metadata": {},
   "outputs": [],
   "source": [
    "Ans: we assign iNeuron value to variable x.and print statemnt return x values that is iNeuron"
   ]
  },
  {
   "cell_type": "code",
   "execution_count": 8,
   "id": "a052a978-591a-4132-8d12-9bc462a698a9",
   "metadata": {},
   "outputs": [
    {
     "name": "stdout",
     "output_type": "stream",
     "text": [
      "iNeuron\n"
     ]
    }
   ],
   "source": [
    "X = 'iNeuron'\n",
    "def func():\n",
    "    print(X)\n",
    "func()"
   ]
  },
  {
   "cell_type": "code",
   "execution_count": null,
   "id": "aad1109c-4ac9-4af0-abe1-ad9ee4a0c94f",
   "metadata": {},
   "outputs": [],
   "source": [
    "2. What is the result of the code, and explain?\n",
    ">>> X = 'iNeuron'\n",
    ">>> def func():\n",
    "X = 'NI!'\n",
    ">>> func()\n",
    ">>> print(X)"
   ]
  },
  {
   "cell_type": "code",
   "execution_count": null,
   "id": "3869136e-6b70-41a8-b6a0-60e610e242fb",
   "metadata": {},
   "outputs": [],
   "source": [
    "Ans: The Result of this cide is NI!, because the function initially looks for the variable X in its local scope if X is not\n",
    "available then it checks for variable X in the global scope, Since here the X is present in the local scope. it prints the\n",
    "value NI!\n"
   ]
  },
  {
   "cell_type": "code",
   "execution_count": 15,
   "id": "bb4ec639-ca8c-4798-831c-ab0773af523a",
   "metadata": {},
   "outputs": [
    {
     "name": "stdout",
     "output_type": "stream",
     "text": [
      "NI!\n"
     ]
    }
   ],
   "source": [
    "X = 'iNeuron'\n",
    "def func():\n",
    "    X = 'NI!'\n",
    "    print(X)\n",
    "func()\n"
   ]
  },
  {
   "cell_type": "code",
   "execution_count": null,
   "id": "89718abe-1d6b-48d6-be37-0bcad30d3555",
   "metadata": {},
   "outputs": [],
   "source": [
    "3. What does this code print, and why?"
   ]
  },
  {
   "cell_type": "code",
   "execution_count": null,
   "id": "e855c492-851c-4bb5-a061-939764ee7481",
   "metadata": {},
   "outputs": [],
   "source": [
    ">>> X = 'iNeuron'\n",
    ">>> def func():\n",
    "X = 'NI'\n",
    "print(X)\n",
    ">>> func()\n",
    ">>> print(X)"
   ]
  },
  {
   "cell_type": "code",
   "execution_count": null,
   "id": "40dc291b-c2e4-4ae2-bd4f-06b760105d08",
   "metadata": {},
   "outputs": [],
   "source": [
    "Ans: The output of the code is NI and iNeuron. X=NI is in the local scope of the function func() hence the function prints \n",
    "the x value as NI. X = 'iNeuron' is in the global scope. hence print(X) prints output as iNeuron\n"
   ]
  },
  {
   "cell_type": "code",
   "execution_count": 14,
   "id": "b23ea164-8084-49bd-accc-c35114c49a34",
   "metadata": {},
   "outputs": [
    {
     "name": "stdout",
     "output_type": "stream",
     "text": [
      "NI\n",
      "iNeuron\n"
     ]
    }
   ],
   "source": [
    "X = 'iNeuron'\n",
    "def func():\n",
    "    X = 'NI'\n",
    "    print(X)\n",
    "func()\n",
    "print(X)\n"
   ]
  },
  {
   "cell_type": "code",
   "execution_count": null,
   "id": "406519c9-ae95-45a8-9269-1559ef69349c",
   "metadata": {},
   "outputs": [],
   "source": [
    "4. What output does this code produce? Why?\n"
   ]
  },
  {
   "cell_type": "code",
   "execution_count": null,
   "id": "a54fa395-73d5-4d28-9c87-8a2b4c0bbbf7",
   "metadata": {},
   "outputs": [],
   "source": [
    ">>> X = 'iNeuron'\n",
    ">>> def func():\n",
    "global X\n",
    "X = 'NI'\n",
    ">>> func()\n",
    ">>> print(X)"
   ]
  },
  {
   "cell_type": "code",
   "execution_count": null,
   "id": "654ef644-e076-4a26-b31a-dd788f5b3c53",
   "metadata": {},
   "outputs": [],
   "source": [
    "Ans: The output of the code is NI. the global keyword allows a variable to be accessible in the current scope. since we are\n",
    "using global keyword inside the function func it directly access the variable in X in global scope. and changes its value to \n",
    "NI. hence the output of the code is NI\n"
   ]
  },
  {
   "cell_type": "code",
   "execution_count": 13,
   "id": "94026402-276e-4585-9607-aeddfef2d4f6",
   "metadata": {},
   "outputs": [
    {
     "name": "stdout",
     "output_type": "stream",
     "text": [
      "NI\n"
     ]
    }
   ],
   "source": [
    "X = 'iNeuron'\n",
    "def func():\n",
    "    global X\n",
    "    X = 'NI'\n",
    "func()\n",
    "print(X)\n"
   ]
  },
  {
   "cell_type": "code",
   "execution_count": null,
   "id": "e410f021-2174-436b-9b27-fc2b725a3d6c",
   "metadata": {},
   "outputs": [],
   "source": [
    "5. What about this code—what’s the output, and why?\n",
    ">>> X = 'iNeuron'\n",
    ">>> def func():\n",
    "X = 'NI'\n",
    "def nested():\n",
    "print(X)\n",
    "nested()\n",
    ">>> func()\n",
    ">>> X"
   ]
  },
  {
   "cell_type": "code",
   "execution_count": null,
   "id": "3c31b9d6-2f8c-4f4e-a026-1bcfff1b284d",
   "metadata": {},
   "outputs": [],
   "source": [
    "Ans: The output of the code is NI. the reason for this output is if a function wants to access a variable, if its not \n",
    "available in its localscope. it looks for the variable in its global scope. similarly here also function nested looks for\n",
    "variable X in its global scope. hence the output of the code is NI\n"
   ]
  },
  {
   "cell_type": "code",
   "execution_count": 12,
   "id": "d5b2d10d-490b-4301-b72e-9f9058a563fa",
   "metadata": {},
   "outputs": [
    {
     "name": "stdout",
     "output_type": "stream",
     "text": [
      "NI\n"
     ]
    },
    {
     "data": {
      "text/plain": [
       "'iNeuron'"
      ]
     },
     "execution_count": 12,
     "metadata": {},
     "output_type": "execute_result"
    }
   ],
   "source": [
    "X = 'iNeuron'\n",
    "def func():\n",
    "    X = 'NI'\n",
    "    def nested():\n",
    "        print(X)\n",
    "    nested()\n",
    "func()\n",
    "X\n"
   ]
  },
  {
   "cell_type": "code",
   "execution_count": null,
   "id": "066682dc-842d-4c04-85ae-10b01a5475df",
   "metadata": {},
   "outputs": [],
   "source": [
    "6. How about this code: what is its output in Python 3, and explain?\n",
    ">>> def func():\n",
    "X = 'NI'\n",
    "def nested():\n",
    "nonlocal X\n",
    "X = 'Spam'\n",
    "nested()\n",
    "print(X)\n",
    ">>> func()"
   ]
  },
  {
   "cell_type": "code",
   "execution_count": null,
   "id": "05d8462e-28ee-4a0f-ae1e-8585ce41ccb2",
   "metadata": {},
   "outputs": [],
   "source": [
    "Ans: The output of the code is Spam. nonlocal keyword in python is used to declare a variable as not local.Hence the statement\n",
    "X = \"Spam\" is modified in the global scope. hence the output of print(X) statement is Spam\n"
   ]
  },
  {
   "cell_type": "code",
   "execution_count": 10,
   "id": "f14cc2da-5d43-4385-ac09-143e923f2097",
   "metadata": {},
   "outputs": [
    {
     "name": "stdout",
     "output_type": "stream",
     "text": [
      "Spam\n"
     ]
    }
   ],
   "source": [
    "def func():\n",
    "    X = 'NI'\n",
    "    def nested():\n",
    "        nonlocal X\n",
    "        X = 'Spam'\n",
    "    nested()\n",
    "    print(X)\n",
    "func()\n"
   ]
  },
  {
   "cell_type": "code",
   "execution_count": null,
   "id": "3a9f5878-954c-44ca-b1f6-9f3b2a82fa48",
   "metadata": {},
   "outputs": [],
   "source": []
  }
 ],
 "metadata": {
  "kernelspec": {
   "display_name": "Python 3 (ipykernel)",
   "language": "python",
   "name": "python3"
  },
  "language_info": {
   "codemirror_mode": {
    "name": "ipython",
    "version": 3
   },
   "file_extension": ".py",
   "mimetype": "text/x-python",
   "name": "python",
   "nbconvert_exporter": "python",
   "pygments_lexer": "ipython3",
   "version": "3.10.6"
  }
 },
 "nbformat": 4,
 "nbformat_minor": 5
}
