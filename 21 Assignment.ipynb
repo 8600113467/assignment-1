{
 "cells": [
  {
   "cell_type": "code",
   "execution_count": null,
   "id": "a4e725d8-06aa-4fa2-af5c-0ac9b4cff0ac",
   "metadata": {},
   "outputs": [],
   "source": [
    "Assignment no.21"
   ]
  },
  {
   "cell_type": "code",
   "execution_count": 3,
   "id": "577389b9-d59f-4ab6-b483-19201bf625ab",
   "metadata": {},
   "outputs": [],
   "source": [
    "1. Add the current date to the text file today.txt as a string."
   ]
  },
  {
   "cell_type": "code",
   "execution_count": 2,
   "id": "f62c447b-a354-474a-a177-0abe31a59ed9",
   "metadata": {},
   "outputs": [],
   "source": [
    "import datetime\n",
    "f = open('today.txt','a')\n",
    "f.write(datetime.datetime.now().strftime(\"%d-%m-%Y\"))\n",
    "f.close()"
   ]
  },
  {
   "cell_type": "code",
   "execution_count": null,
   "id": "ceecd183-6ca3-4e19-800c-1b36c8afddb2",
   "metadata": {},
   "outputs": [],
   "source": [
    "2. Read the text file today.txt into the string today_string"
   ]
  },
  {
   "cell_type": "code",
   "execution_count": 3,
   "id": "7e4ee8ed-1c46-408f-80a4-7cd12929a3bb",
   "metadata": {},
   "outputs": [
    {
     "name": "stdout",
     "output_type": "stream",
     "text": [
      "28-06-2023\n"
     ]
    }
   ],
   "source": [
    "f = open('today.txt','r')\n",
    "today_string=f.read()\n",
    "print(today_string)"
   ]
  },
  {
   "cell_type": "code",
   "execution_count": null,
   "id": "50bd2a29-cc80-499b-abec-70f11f2afa1c",
   "metadata": {},
   "outputs": [],
   "source": [
    "3. Parse the date from today_string."
   ]
  },
  {
   "cell_type": "code",
   "execution_count": 4,
   "id": "45e89827-cd91-4489-bd49-e14c1d021ed6",
   "metadata": {},
   "outputs": [
    {
     "name": "stdout",
     "output_type": "stream",
     "text": [
      "2023-06-28 00:00:00\n"
     ]
    }
   ],
   "source": [
    "from datetime import datetime\n",
    "parsed_data = datetime.strptime(today_string, '%d-%m-%Y')\n",
    "print(parsed_data)"
   ]
  },
  {
   "cell_type": "code",
   "execution_count": null,
   "id": "2b139239-56ae-4b0f-bcd9-ab1782155812",
   "metadata": {},
   "outputs": [],
   "source": [
    "4. List the files in your current directory"
   ]
  },
  {
   "cell_type": "code",
   "execution_count": 12,
   "id": "9c6cacc7-cac3-4d33-810a-28d80565494a",
   "metadata": {},
   "outputs": [
    {
     "name": "stdout",
     "output_type": "stream",
     "text": [
      "[['Assignment6.ipynb', '14Assignment.ipynb', '10 Assignment.ipynb', 'README.md', '19 Assignment.ipynb', 'Assignment9.ipynb', 'test.txt', 'sample-code.ipynb', '21 Assignment.ipynb', 'Assignment5.ipynb', '18 Assignment.ipynb', '.git', 'ncert_books.pdf', 'Assignment 4.ipynb', '12 Assignment .ipynb', '15 Assignment .ipynb', 'Untitled3.ipynb', 'Assignment 1.ipynb', 'ASSIGNMENT 8.ipynb', 'Assignment 9.ipynb', 'unAssignment .ipynb', 'Untitled1.ipynb', 'Assignment 3.ipynb', '13 Assignment.ipynb', '20 Assignment.ipynb', '8 Assignment no.8.ipynb', '16 Assignment.ipynb', 'Assignment  2.ipynb', 'Untitled.ipynb', '.ipynb_checkpoints', '11 Assignment 11.ipynb', 'today.txt', '17 Assignment .ipynb', 'Assignment7.ipynb', 'programming assignment', 'Untitled2.ipynb']]\n"
     ]
    }
   ],
   "source": [
    "import os\n",
    "arr = os.listdir('.')\n",
    "print(arr)"
   ]
  },
  {
   "cell_type": "code",
   "execution_count": null,
   "id": "5e1bf5bb-5e14-4cc8-9963-d35f23d1eacf",
   "metadata": {},
   "outputs": [],
   "source": [
    "5. Create a list of all of the files in your parent directory (minimum five files should be available).\n"
   ]
  },
  {
   "cell_type": "code",
   "execution_count": 14,
   "id": "81097156-2549-47ec-81f0-492f4eacd8ac",
   "metadata": {},
   "outputs": [
    {
     "data": {
      "text/plain": [
       "['Assignment6.ipynb',\n",
       " '14Assignment.ipynb',\n",
       " '10 Assignment.ipynb',\n",
       " 'README.md',\n",
       " '19 Assignment.ipynb',\n",
       " 'Assignment9.ipynb',\n",
       " 'test.txt',\n",
       " 'sample-code.ipynb',\n",
       " '21 Assignment.ipynb',\n",
       " 'Assignment5.ipynb',\n",
       " '18 Assignment.ipynb',\n",
       " '.git',\n",
       " 'ncert_books.pdf',\n",
       " 'Assignment 4.ipynb',\n",
       " '12 Assignment .ipynb',\n",
       " '15 Assignment .ipynb',\n",
       " 'Untitled3.ipynb',\n",
       " 'Assignment 1.ipynb',\n",
       " 'ASSIGNMENT 8.ipynb',\n",
       " 'Assignment 9.ipynb',\n",
       " 'unAssignment .ipynb',\n",
       " 'Untitled1.ipynb',\n",
       " 'Assignment 3.ipynb',\n",
       " '13 Assignment.ipynb',\n",
       " '20 Assignment.ipynb',\n",
       " '8 Assignment no.8.ipynb',\n",
       " '16 Assignment.ipynb',\n",
       " 'Assignment  2.ipynb',\n",
       " 'Untitled.ipynb',\n",
       " '.ipynb_checkpoints',\n",
       " '11 Assignment 11.ipynb',\n",
       " 'today.txt',\n",
       " '17 Assignment .ipynb',\n",
       " 'Assignment7.ipynb',\n",
       " 'programming assignment',\n",
       " 'Untitled2.ipynb']"
      ]
     },
     "execution_count": 14,
     "metadata": {},
     "output_type": "execute_result"
    }
   ],
   "source": [
    "import os \n",
    "os.listdir()"
   ]
  },
  {
   "cell_type": "code",
   "execution_count": null,
   "id": "a87da714-2169-4afb-9ab5-ad0d62b40ff2",
   "metadata": {},
   "outputs": [],
   "source": [
    "6. Use multiprocessing to create three separate processes. Make each one wait a random number of seconds between one and five,\n",
    "print the current time, and then exit.\n"
   ]
  },
  {
   "cell_type": "code",
   "execution_count": 1,
   "id": "773714a4-87df-42fb-8044-af5cbb489049",
   "metadata": {},
   "outputs": [
    {
     "name": "stdout",
     "output_type": "stream",
     "text": [
      "Proc_one_Starttime -> 2023-06-29 17:40:16.283688\n",
      "Proc_two_Starttime -> 2023-06-29 17:40:16.286841\n",
      "Proc_two_Starttime -> 2023-06-29 17:40:16.292973\n",
      "Proc_one_Endtime -> 2023-06-29 17:40:17.289763\n",
      "Proc_two_Endtime -> 2023-06-29 17:40:20.297089\n",
      "Proc_two_Endtime -> 2023-06-29 17:40:21.301293\n"
     ]
    }
   ],
   "source": [
    "import multiprocessing\n",
    "import time \n",
    "import random\n",
    "import datetime\n",
    "\n",
    "def procOne():\n",
    "    print(f'Proc_one_Starttime -> {datetime.datetime.now()}')\n",
    "    time.sleep(random.randint(1,5))\n",
    "    print(f'Proc_one_Endtime -> {datetime.datetime.now()}')\n",
    "    \n",
    "def procTwo():\n",
    "    print(f'Proc_two_Starttime -> {datetime.datetime.now()}')\n",
    "    time.sleep(random.randint(1,5))\n",
    "    print(f'Proc_two_Endtime -> {datetime.datetime.now()}')\n",
    "\n",
    "def procThree():\n",
    "    print(f'Proc_two_Starttime -> {datetime.datetime.now()}')\n",
    "    time.sleep(random.randint(1,5))\n",
    "    print(f'Proc_two_Endtime -> {datetime.datetime.now()}')\n",
    "    \n",
    "if __name__ == \"__main__\":    \n",
    "    p1 = multiprocessing.Process(target=procOne)\n",
    "    p2 = multiprocessing.Process(target=procTwo)\n",
    "    p3 = multiprocessing.Process(target=procThree)\n",
    "\n",
    "    p1.start()\n",
    "    p2.start()\n",
    "    p3.start()\n",
    "\n",
    "    p1.join()\n",
    "    p2.join()\n",
    "    p3.join()"
   ]
  },
  {
   "cell_type": "code",
   "execution_count": null,
   "id": "7b843343-c2d5-4f38-8554-5cd50d7911a1",
   "metadata": {},
   "outputs": [],
   "source": [
    "7. Create a date object of your day of birth."
   ]
  },
  {
   "cell_type": "code",
   "execution_count": 19,
   "id": "6b871362-1261-4590-bca6-25334d46a762",
   "metadata": {},
   "outputs": [
    {
     "name": "stdout",
     "output_type": "stream",
     "text": [
      "1997-04-22 00:00:00\n"
     ]
    }
   ],
   "source": [
    "from datetime import datetime\n",
    "my_dob = datetime.strptime('22/04/1997','%d/%m/%Y')\n",
    "print(my_dob)"
   ]
  },
  {
   "cell_type": "code",
   "execution_count": null,
   "id": "a60b058c-8e79-49ab-b04b-4051fe615802",
   "metadata": {},
   "outputs": [],
   "source": [
    "8. What day of the week was your day of birth?"
   ]
  },
  {
   "cell_type": "code",
   "execution_count": 23,
   "id": "fa746b8f-939e-4f1e-ab39-cacbfb317e98",
   "metadata": {},
   "outputs": [
    {
     "data": {
      "text/plain": [
       "'Thursday'"
      ]
     },
     "execution_count": 23,
     "metadata": {},
     "output_type": "execute_result"
    }
   ],
   "source": [
    "from datetime import datetime\n",
    "my_dob = datetime(1995,3,9)\n",
    "my_dob.strftime(\"%A\")"
   ]
  },
  {
   "cell_type": "code",
   "execution_count": null,
   "id": "1ebffbcc-a986-41f8-a3ac-b356d26d1801",
   "metadata": {},
   "outputs": [],
   "source": [
    "9. When will you be (or when were you) 10,000 days old?"
   ]
  },
  {
   "cell_type": "code",
   "execution_count": 29,
   "id": "2dc7cca5-5dbf-46df-bfcb-9261f6d7197e",
   "metadata": {},
   "outputs": [
    {
     "data": {
      "text/plain": [
       "datetime.datetime(2022, 7, 25, 0, 0)"
      ]
     },
     "execution_count": 29,
     "metadata": {},
     "output_type": "execute_result"
    }
   ],
   "source": [
    "from datetime import datetime, timedelta\n",
    "my_dob = datetime.strptime(\"09/03/1995\",'%d/%m/%Y')\n",
    "future_date = my_dob+timedelta(10000)\n",
    "future_date"
   ]
  },
  {
   "cell_type": "code",
   "execution_count": null,
   "id": "6eecb0be-0159-4a1e-bf66-eda833bc6807",
   "metadata": {},
   "outputs": [],
   "source": []
  }
 ],
 "metadata": {
  "kernelspec": {
   "display_name": "Python 3 (ipykernel)",
   "language": "python",
   "name": "python3"
  },
  "language_info": {
   "codemirror_mode": {
    "name": "ipython",
    "version": 3
   },
   "file_extension": ".py",
   "mimetype": "text/x-python",
   "name": "python",
   "nbconvert_exporter": "python",
   "pygments_lexer": "ipython3",
   "version": "3.10.6"
  }
 },
 "nbformat": 4,
 "nbformat_minor": 5
}
