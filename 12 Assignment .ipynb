{
 "cells": [
  {
   "cell_type": "code",
   "execution_count": null,
   "id": "3654a53c-2984-4e07-beb2-6f53df3214a0",
   "metadata": {},
   "outputs": [],
   "source": [
    "python basic assignment\n",
    "Assignment no.12"
   ]
  },
  {
   "cell_type": "code",
   "execution_count": 2,
   "id": "29032924-a588-41c3-8fbf-0323b80f2a23",
   "metadata": {},
   "outputs": [
    {
     "name": "stdout",
     "output_type": "stream",
     "text": [
      "Collecting pyPDF2\n",
      "  Downloading pypdf2-3.0.1-py3-none-any.whl (232 kB)\n",
      "\u001b[2K     \u001b[90m━━━━━━━━━━━━━━━━━━━━━━━━━━━━━━━━━━━━━━\u001b[0m \u001b[32m232.6/232.6 kB\u001b[0m \u001b[31m11.2 MB/s\u001b[0m eta \u001b[36m0:00:00\u001b[0m\n",
      "\u001b[?25hInstalling collected packages: pyPDF2\n",
      "Successfully installed pyPDF2-3.0.1\n",
      "Note: you may need to restart the kernel to use updated packages.\n"
     ]
    }
   ],
   "source": [
    "pip install pyPDF2"
   ]
  },
  {
   "cell_type": "code",
   "execution_count": null,
   "id": "d1dfc57d-6bb7-4222-b62e-6b8fdd299c4a",
   "metadata": {},
   "outputs": [],
   "source": [
    "1. In what modes should the PdfFileReader() and PdfFileWriter() File objects will be\n",
    "opened?\n",
    "Ans: For PdfFileReader() file objects should be opened in rb -> read binary mode,\n",
    "Whereas for PdfFileWriter() file objects should be opened in wb -> write binary mode.\n"
   ]
  },
  {
   "cell_type": "code",
   "execution_count": null,
   "id": "87879401-1f92-4904-83b2-6c51fc797dd9",
   "metadata": {},
   "outputs": [],
   "source": [
    "2. From a PdfFileReader object, how do you get a Page object for page 5?\n",
    "Ans: PdfFileReader class provides a method called getPage(page_no) to get a page object."
   ]
  },
  {
   "cell_type": "code",
   "execution_count": null,
   "id": "86cc00a7-87e7-4400-b859-eec92ff524b9",
   "metadata": {},
   "outputs": [],
   "source": [
    "3. What PdfFileReader variable stores the number of pages in the PDF document?\n",
    "Ans: getNumPages() method of PdfFileReader class stores the no pages in a PDF document\n"
   ]
  },
  {
   "cell_type": "code",
   "execution_count": null,
   "id": "e38306e8-3584-4c3e-8657-1b6d02ab5189",
   "metadata": {},
   "outputs": [],
   "source": []
  },
  {
   "cell_type": "code",
   "execution_count": null,
   "id": "541fc345-209f-4562-850a-8012dcc8fc80",
   "metadata": {},
   "outputs": [],
   "source": []
  },
  {
   "cell_type": "code",
   "execution_count": null,
   "id": "d9819afe-9dd7-4cbe-a531-0e792cb157ae",
   "metadata": {},
   "outputs": [],
   "source": [
    "4. If a PdfFileReader object’s PDF is encrypted with the password swordfish, what must\n",
    "you do before you can obtain Page objects from it?\n",
    "Ans: If a PdfFileReader object’s PDF is encrypted with the password swordfish and you're\n",
    "not aware of it. first read the Pdf using the PdfFileReader Class. PdfFileReader class \n",
    "provides a attribute called isEncrypted to check whether a pdf is encrypted or not. \n",
    "the method returns true if a pdf is encrypted and vice versa.if pdf is encrypted use the\n",
    "decrypt() method provided by PdfFileReader class first then try to read the contents/pages\n",
    "of the pdf, else PyPDF2 will raise the following error PyPDF2.utils.PdfReadError: file\n",
    "has not been decrypted\n"
   ]
  },
  {
   "cell_type": "code",
   "execution_count": null,
   "id": "2a1a7ba3-963b-4c8b-910c-b11444f2a573",
   "metadata": {},
   "outputs": [],
   "source": [
    "5. What methods do you use to rotate a page?\n",
    "Ans: PyPDF2 Package provides 2 methods to rotate a page:\n",
    "\n",
    "rotateClockWise() -> For Clockwise rotation\n",
    "rotateCounterClockWise() -> For Counter Clockwise rotation\n",
    "The PyPDF2 package only allows you to rotate a page in increments of 90 degrees. You will receive an AssertionError otherwise.\n"
   ]
  },
  {
   "cell_type": "code",
   "execution_count": null,
   "id": "f5aada91-aee9-432a-bde1-1c001d0f7be6",
   "metadata": {},
   "outputs": [],
   "source": [
    "6. What is the difference between a Run object and a Paragraph object?\n",
    "Ans: The structure of a document is represented by three different data types in python-Docx. At the highest level, a Document \n",
    "object represents the entire document. The Document object contains a list of Paragraph objects for the paragraphs in the\n",
    "document. (A new paragraph begins whenever the user presses ENTER or RETURN while typing in a Word document.) Each of these\n",
    "Paragraph objects contains a list of one or more Run objects.\n",
    "\n",
    "The text in a Word document is more than just a string. It has font, size, color, and other styling information associated with \n",
    "it. A style in Word is a collection of these attributes. A Run object is a contiguous run of text with the same style. A new Run\n",
    "object is needed whenever the text style changes.\n"
   ]
  },
  {
   "cell_type": "code",
   "execution_count": null,
   "id": "2fe3ab92-3a20-4880-8c3f-8b92c4d19207",
   "metadata": {},
   "outputs": [],
   "source": [
    "7. How do you obtain a list of Paragraph objects for a Document object that’s stored in a variable named doc?\n",
    "# Example Program\n",
    "from docx import Document\n",
    "doc = Document(\"sample_file.docx\") # Path of the Docx file\n",
    "print(doc.paragraphs) # Prints the list of Paragraph objects for a Document\n",
    "for paragraph in doc.paragraphs:\n",
    "    print(paragraph.text) # Prints the text in the paragraph"
   ]
  },
  {
   "cell_type": "code",
   "execution_count": null,
   "id": "ab9ed36d-054e-4780-a654-87bb974d6f60",
   "metadata": {},
   "outputs": [],
   "source": [
    "8. What type of object has bold, underline, italic, strike, and outline variables?\n",
    "Ans: Run object has bold, underline, italic, strike, and outline variables. The text in a Word document is more than just a \n",
    "string. It has font, size, color, and other styling information associated with it."
   ]
  },
  {
   "cell_type": "code",
   "execution_count": null,
   "id": "f4ba234a-8001-45c0-b5f8-5d6a07c491f9",
   "metadata": {},
   "outputs": [],
   "source": [
    "9. What is the difference between False, True, and None for the bold variable?\n",
    "bold = True  # Style Set to Bold\n",
    "bold = False # Style Not Set to Bold\n",
    "bold = None # Style is Not Applicable"
   ]
  },
  {
   "cell_type": "code",
   "execution_count": null,
   "id": "a9e6fe6a-8276-4edc-bf0c-a38609e8c61f",
   "metadata": {},
   "outputs": [],
   "source": [
    "10. How do you create a Document object for a new Word document?\n",
    "# Example Program\n",
    "from docx import Document\n",
    "document = Document()\n",
    "document.add_paragraph(\"iNeuron Full Stack DataScience Course\")\n",
    "document.save('mydocument.docx')"
   ]
  },
  {
   "cell_type": "code",
   "execution_count": null,
   "id": "e170672c-dff9-4be2-aaf3-e1863e1e7663",
   "metadata": {},
   "outputs": [],
   "source": [
    "11. How do you add a paragraph with the text 'Hello, there!' to a Document object stored in a variable named doc?\n",
    "# Example Program\n",
    "from docx import Document\n",
    "doc = Document()\n",
    "doc.add_paragraph('Hello, there!')\n",
    "doc.save('hello.docx')"
   ]
  },
  {
   "cell_type": "code",
   "execution_count": null,
   "id": "f026fdf3-4123-4617-b042-5414955e2fa5",
   "metadata": {},
   "outputs": [],
   "source": [
    "12. What integers represent the levels of headings available in Word documents?\n",
    "Ans:There are a total of 5 levels statring for 0 t0 4. where level 0 makes a headline with the horizontal line below the text, \n",
    "whereas the heading level 1 is the main heading. Similarly, the other headings are sub-heading with their's font-sizes in \n",
    "decreasing order."
   ]
  }
 ],
 "metadata": {
  "kernelspec": {
   "display_name": "Python 3 (ipykernel)",
   "language": "python",
   "name": "python3"
  },
  "language_info": {
   "codemirror_mode": {
    "name": "ipython",
    "version": 3
   },
   "file_extension": ".py",
   "mimetype": "text/x-python",
   "name": "python",
   "nbconvert_exporter": "python",
   "pygments_lexer": "ipython3",
   "version": "3.10.6"
  }
 },
 "nbformat": 4,
 "nbformat_minor": 5
}
