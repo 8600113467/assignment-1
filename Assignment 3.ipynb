{
 "cells": [
  {
   "cell_type": "code",
   "execution_count": null,
   "id": "e58a12ab-81c8-4306-a79c-56de2dc70e5f",
   "metadata": {},
   "outputs": [],
   "source": [
    "NAME -AKSHAY PATIL\n",
    "BATCH 17 SEP\n",
    "ASSIGNMENT BASIC PY"
   ]
  },
  {
   "cell_type": "code",
   "execution_count": null,
   "id": "6a88419c-299c-4e94-8540-b466831df030",
   "metadata": {},
   "outputs": [],
   "source": [
    "1. Why are functions advantageous to have in your programs?"
   ]
  },
  {
   "cell_type": "code",
   "execution_count": null,
   "id": "ad369bcc-3faf-48c8-bb0a-4e37f47f04fa",
   "metadata": {},
   "outputs": [],
   "source": [
    "ans : 1)Avoid repetition of codes.\n",
    "      2)  Increases program readability.\n",
    "      3)  Divide a complex problem into simpler ones.\n",
    "      4) Reduces chances of error.\n",
    "      5) Modifying a program becomes easier by using function.\n"
   ]
  },
  {
   "cell_type": "code",
   "execution_count": null,
   "id": "c7b20818-8fc6-4322-a784-0f981feaf254",
   "metadata": {},
   "outputs": [],
   "source": [
    "2. When does the code in a function run: when it specified or when it called?\n",
    "ans: code in function run when it called."
   ]
  },
  {
   "cell_type": "code",
   "execution_count": null,
   "id": "d5fa8d19-862d-414e-ba1d-125d2080914b",
   "metadata": {},
   "outputs": [],
   "source": [
    "3. What statement creates a function?\n",
    "ans: def key word use to create function\n",
    "syntax :\n",
    "    def my_function():\n",
    "  print(\"Hello from a function\")"
   ]
  },
  {
   "cell_type": "code",
   "execution_count": null,
   "id": "49fd9a5d-ca27-4eef-81a2-c213f8413ca1",
   "metadata": {},
   "outputs": [],
   "source": [
    "4. What is the difference between a function and a function call?\n",
    "ans:A function is a piece of code which enhanced the reusability and modularity of your program. It means that piece of code \n",
    "need not be written again. A function call means calling that function. Unless a function is called there is no\n",
    "use of that function."
   ]
  },
  {
   "cell_type": "code",
   "execution_count": null,
   "id": "b364f8e1-5410-452a-b357-0e00149857d4",
   "metadata": {},
   "outputs": [],
   "source": []
  },
  {
   "cell_type": "code",
   "execution_count": null,
   "id": "bd36cf6e-82ee-4e7d-9d78-2102845ff5a2",
   "metadata": {},
   "outputs": [],
   "source": [
    "5. How many global scopes are there in a Python program? How many local scopes?"
   ]
  },
  {
   "cell_type": "code",
   "execution_count": null,
   "id": "c3cca12d-02fe-4dd8-aca9-dbc7827b1fc5",
   "metadata": {},
   "outputs": [],
   "source": [
    "There's only one global Python scope per program execution. This scope remains in existence until the program terminates and all\n",
    "its names are forgotten. Otherwise, the next time you were to run the program, the names would remember their values from the\n",
    "previous run."
   ]
  },
  {
   "cell_type": "code",
   "execution_count": null,
   "id": "b8a3be61-276a-4975-8a62-74d5de6ae178",
   "metadata": {},
   "outputs": [],
   "source": [
    "6. What happens to variables in a local scope when the function call returns?"
   ]
  },
  {
   "cell_type": "code",
   "execution_count": null,
   "id": "5badfdc7-9869-4c82-b5f8-66e2afdf8f20",
   "metadata": {},
   "outputs": [],
   "source": [
    "7. What is the concept of a return value? Is it possible to have a return value in an expression?\n",
    "ans:  A return  gives a value against a function code.  Like any value, a return value can be used as part of \n",
    "an expression.\n",
    "\n"
   ]
  },
  {
   "cell_type": "code",
   "execution_count": null,
   "id": "081d2406-3251-42e7-a242-698607d997df",
   "metadata": {},
   "outputs": [],
   "source": [
    "8. If a function does not have a return statement, what is the return value of a call to that function?\n",
    "Ans: If there is no return statement for a function, its return value is None.\n"
   ]
  },
  {
   "cell_type": "code",
   "execution_count": 2,
   "id": "a76b7db2-f244-4d54-a7c1-7e4bd62baa2c",
   "metadata": {},
   "outputs": [],
   "source": [
    "def my_function():\n",
    "    return\n",
    "\n",
    " "
   ]
  },
  {
   "cell_type": "code",
   "execution_count": null,
   "id": "406dd942-2b7b-475f-997a-939b0ce8ac53",
   "metadata": {},
   "outputs": [],
   "source": []
  },
  {
   "cell_type": "code",
   "execution_count": null,
   "id": "6dbce9dd-b424-4129-a5a7-4094ddd6fc96",
   "metadata": {},
   "outputs": [],
   "source": [
    "9. How do you make a function variable refer to the global variable?\n",
    "Ans: by using global keyword. we can declare global variable\n",
    "   "
   ]
  },
  {
   "cell_type": "code",
   "execution_count": 1,
   "id": "aae85362-fb45-4a8f-8f68-feae4fe9f61b",
   "metadata": {},
   "outputs": [
    {
     "name": "stdout",
     "output_type": "stream",
     "text": [
      "Python is fantastic\n"
     ]
    }
   ],
   "source": [
    "x = \"awesome\"\n",
    "\n",
    "def myfunc():\n",
    "  global x\n",
    "  x = \"fantastic\"\n",
    "\n",
    "myfunc()\n",
    "\n",
    "print(\"Python is \" + x)\n"
   ]
  },
  {
   "cell_type": "code",
   "execution_count": null,
   "id": "67ab6553-455a-463a-9756-0035e0f747cf",
   "metadata": {},
   "outputs": [],
   "source": [
    "10. What is the data type of None?\n",
    "Ans: The data type of None is NoneType."
   ]
  },
  {
   "cell_type": "code",
   "execution_count": null,
   "id": "74aa1dff-ac34-4ba9-8d82-54237e930514",
   "metadata": {},
   "outputs": [],
   "source": [
    "\n",
    "11. What does the sentence import areallyourpetsnamederic do?\n",
    "Ans: That import statement imports a module named areallyourpetsnamederic"
   ]
  },
  {
   "cell_type": "code",
   "execution_count": null,
   "id": "9cff82c9-49a5-4a1d-89c9-9517d07e01ce",
   "metadata": {},
   "outputs": [],
   "source": [
    "12. If you had a bacon() feature in a spam module, what would you call it after importing spam?\n",
    "Ans: This function can be called with spam.bacon()."
   ]
  },
  {
   "cell_type": "code",
   "execution_count": null,
   "id": "e292d490-0b62-432a-9992-1e679a118088",
   "metadata": {},
   "outputs": [],
   "source": [
    "13. What can you do to save a programme from crashing if it encounters an error?\n",
    "Ans:there is provision to handle such situation called try and except clouse. Place the line of code that\n",
    "might cause an error in a try clause and use except block to handle the error."
   ]
  },
  {
   "cell_type": "code",
   "execution_count": null,
   "id": "1974f948-1418-46ba-87d1-b0263ac56cdd",
   "metadata": {},
   "outputs": [],
   "source": [
    "14. What is the purpose of the try clause? What is the purpose of the except clause?\n",
    "ANS:Try and Except statement is used to handle an errors . The try block is used to check some code for errors\n",
    "i.e the code inside the try block will execute when there is no error in the program. Whereas the code inside\n",
    "the except block will execute whenever the program encounters some error in the preceding try block.\n",
    " \n",
    "\n"
   ]
  },
  {
   "cell_type": "code",
   "execution_count": null,
   "id": "a728d069-dec7-4235-82ee-cc4dd1ed6e4b",
   "metadata": {},
   "outputs": [],
   "source": []
  }
 ],
 "metadata": {
  "kernelspec": {
   "display_name": "Python 3 (ipykernel)",
   "language": "python",
   "name": "python3"
  },
  "language_info": {
   "codemirror_mode": {
    "name": "ipython",
    "version": 3
   },
   "file_extension": ".py",
   "mimetype": "text/x-python",
   "name": "python",
   "nbconvert_exporter": "python",
   "pygments_lexer": "ipython3",
   "version": "3.10.6"
  }
 },
 "nbformat": 4,
 "nbformat_minor": 5
}
