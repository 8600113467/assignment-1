{
 "cells": [
  {
   "cell_type": "code",
   "execution_count": null,
   "id": "0e234128-606f-4598-a784-302c3b59bc3c",
   "metadata": {},
   "outputs": [],
   "source": [
    "PYTHON BASIC ASSIGNMENT\n",
    "Assignment:15"
   ]
  },
  {
   "cell_type": "code",
   "execution_count": null,
   "id": "d9bf6072-8bea-4304-9f8c-a17a4162859c",
   "metadata": {},
   "outputs": [],
   "source": [
    "1.How many seconds are in an hour? Use the interactive interpreter as a calculator and\n",
    "multiply the number of seconds in a minute (60) by the number of minutes in an hour \n",
    "(also 60)."
   ]
  },
  {
   "cell_type": "code",
   "execution_count": 1,
   "id": "7d9f3487-1b72-4677-8a3b-11dab10ecf0c",
   "metadata": {},
   "outputs": [
    {
     "name": "stdout",
     "output_type": "stream",
     "text": [
      "3600\n"
     ]
    }
   ],
   "source": [
    "second_per_minute =60\n",
    "second_per_hour = second_per_minute * 60\n",
    "print(second_per_hour)"
   ]
  },
  {
   "cell_type": "code",
   "execution_count": null,
   "id": "bcb37353-5e56-4a68-9259-533689064163",
   "metadata": {},
   "outputs": [],
   "source": [
    "2. Assign the result from the previous task (seconds in an hour) to a variable called\n",
    "seconds_per_hour."
   ]
  },
  {
   "cell_type": "code",
   "execution_count": 2,
   "id": "a678e019-ae98-46a2-899d-29671fcda02a",
   "metadata": {},
   "outputs": [
    {
     "name": "stdout",
     "output_type": "stream",
     "text": [
      "3600\n"
     ]
    }
   ],
   "source": [
    "seconds_per_hour = 60*second_per_minute\n",
    "print(seconds_per_hour)"
   ]
  },
  {
   "cell_type": "code",
   "execution_count": null,
   "id": "005b5206-b223-464b-968c-f860355cc14b",
   "metadata": {},
   "outputs": [],
   "source": [
    "3. How many seconds do you think there are in a day? Make use of the variables seconds \n",
    "per hour and minutes per hour."
   ]
  },
  {
   "cell_type": "code",
   "execution_count": 18,
   "id": "14e92e7f-e722-42cf-908d-35aa07180676",
   "metadata": {},
   "outputs": [
    {
     "name": "stdout",
     "output_type": "stream",
     "text": [
      "60\n",
      "3600\n",
      "second per day : 86400\n"
     ]
    }
   ],
   "source": [
    "minutes_per_hour = 60\n",
    "print(minutes_per_hour)\n",
    "print(seconds_per_hour)\n",
    "print(f\"second per day : {seconds_per_hour*24}\")\n"
   ]
  },
  {
   "cell_type": "code",
   "execution_count": null,
   "id": "c6e439f4-fe0c-4469-a2d9-d64dea2bf2c7",
   "metadata": {},
   "outputs": [],
   "source": [
    "4. Calculate seconds per day again, but this time save the result in a variable called \n",
    "seconds_per_day"
   ]
  },
  {
   "cell_type": "code",
   "execution_count": 19,
   "id": "5026d0d0-50f2-42fe-8859-ab8b5a2f4484",
   "metadata": {},
   "outputs": [
    {
     "name": "stdout",
     "output_type": "stream",
     "text": [
      "86400\n"
     ]
    }
   ],
   "source": [
    "seconds_per_day = 24*60*60\n",
    "print(seconds_per_day)\n"
   ]
  },
  {
   "cell_type": "code",
   "execution_count": null,
   "id": "b09a3019-4ab9-4ec4-9c98-03748a05eda4",
   "metadata": {},
   "outputs": [],
   "source": [
    "5. Divide seconds_per_day by seconds_per_hour. Use floating-point (/) division."
   ]
  },
  {
   "cell_type": "code",
   "execution_count": 21,
   "id": "e7a70d28-7942-4266-b0ab-9c506b1a106f",
   "metadata": {},
   "outputs": [
    {
     "name": "stdout",
     "output_type": "stream",
     "text": [
      "24.0\n"
     ]
    }
   ],
   "source": [
    "print(seconds_per_day/seconds_per_hour)"
   ]
  },
  {
   "cell_type": "code",
   "execution_count": null,
   "id": "bef51d3c-0702-448a-b590-44cdd8c4f932",
   "metadata": {},
   "outputs": [],
   "source": [
    "6. Divide seconds_per_day by seconds_per_hour, using integer (//) division. Did this \n",
    "number agree with the floating-point value from the previous question, aside from the \n",
    "final"
   ]
  },
  {
   "cell_type": "code",
   "execution_count": 23,
   "id": "b48baf4a-1699-4ce7-84ab-902ac4197965",
   "metadata": {},
   "outputs": [
    {
     "name": "stdout",
     "output_type": "stream",
     "text": [
      "24\n"
     ]
    }
   ],
   "source": [
    "print(seconds_per_day//seconds_per_hour)"
   ]
  },
  {
   "cell_type": "code",
   "execution_count": null,
   "id": "ac497241-86c3-4e5b-b703-f3ee110637d8",
   "metadata": {},
   "outputs": [],
   "source": []
  }
 ],
 "metadata": {
  "kernelspec": {
   "display_name": "Python 3 (ipykernel)",
   "language": "python",
   "name": "python3"
  },
  "language_info": {
   "codemirror_mode": {
    "name": "ipython",
    "version": 3
   },
   "file_extension": ".py",
   "mimetype": "text/x-python",
   "name": "python",
   "nbconvert_exporter": "python",
   "pygments_lexer": "ipython3",
   "version": "3.10.6"
  }
 },
 "nbformat": 4,
 "nbformat_minor": 5
}
