{
 "cells": [
  {
   "cell_type": "code",
   "execution_count": null,
   "id": "20ef6a24-b6b8-4233-b11d-9257c00e4934",
   "metadata": {},
   "outputs": [],
   "source": [
    "1. What is the relationship between def statements and lambda expressions ?\n"
   ]
  },
  {
   "cell_type": "code",
   "execution_count": null,
   "id": "2bb84a10-70eb-4491-a0a4-8b9c7b94db33",
   "metadata": {},
   "outputs": [],
   "source": [
    "Ans: def statement is used to create a normal function. where as lamba expressions are used to create Anonymous functions. \n",
    "which can be assigned to a variable and can be called using the variable later in function."
   ]
  },
  {
   "cell_type": "code",
   "execution_count": null,
   "id": "4dcfa8e2-0c5f-4ecd-8537-3c8c0b27e2ec",
   "metadata": {},
   "outputs": [],
   "source": [
    "2. What is the benefit of lambda?"
   ]
  },
  {
   "cell_type": "code",
   "execution_count": null,
   "id": "e92eb941-6d9b-4131-8185-3a72e1fb49c5",
   "metadata": {},
   "outputs": [],
   "source": [
    "Ans: The following are some of the benefits of lambda expressions:\n",
    "Can be used to create Nameless/Anonymous functions inside some complex functions if we are planning to use it only once.\n",
    "Moderate to small functions can be created in a single line\n",
    "Fuctions created using lambda expressions can be assigned to a variable and can be used by simply calling the variable\n"
   ]
  },
  {
   "cell_type": "code",
   "execution_count": null,
   "id": "37c2a82f-6fb8-4626-9d62-fec39c354cd4",
   "metadata": {},
   "outputs": [],
   "source": [
    "3. Compare and contrast map, filter, and reduce."
   ]
  },
  {
   "cell_type": "code",
   "execution_count": null,
   "id": "f6193b8b-38d9-4346-9b2b-38a34efeb753",
   "metadata": {},
   "outputs": [],
   "source": [
    "Ans: The differences between map, filter and reduce are:\n",
    "\n",
    "map(): The map() function is a type of higher-order. This function takes another function as a parameter\n",
    "along with a sequence of iterables and returns an output after applying the function to each iterable present in the sequence.\n",
    "2. filter(): The filter() function is used to create an output list consisting of values for which the function returns true.\n",
    "3. reduce(): The reduce() function, as the name describes, applies a given function to the iterables and returns a single \n",
    "value"
   ]
  },
  {
   "cell_type": "code",
   "execution_count": 1,
   "id": "eb5139f2-14f4-4404-9ddc-c7ce75e8b8f1",
   "metadata": {},
   "outputs": [
    {
     "name": "stdout",
     "output_type": "stream",
     "text": [
      "Map -> [2, 4, 6, 8]\n",
      "Filter -> [1, 3]\n",
      "Reduce -> 21\n"
     ]
    }
   ],
   "source": [
    "from functools import reduce\n",
    "# map function\n",
    "print('Map ->',list(map(lambda x:x+x, [1,2,3,4])))\n",
    "# fitler function\n",
    "print('Filter ->',list(filter(lambda x:x%2 !=0, [1,2,3,4])))\n",
    "# reduce function\n",
    "print('Reduce ->',reduce(lambda x,y:x+y, [1,2,3,4,5,6]))"
   ]
  },
  {
   "cell_type": "code",
   "execution_count": null,
   "id": "e4b6ca63-cd13-45ee-af3b-13492e3d2b34",
   "metadata": {},
   "outputs": [],
   "source": [
    "4. What are function annotations, and how are they used?"
   ]
  },
  {
   "cell_type": "code",
   "execution_count": null,
   "id": "2aec9cad-d35d-4edf-a227-5e5dae6601a9",
   "metadata": {},
   "outputs": [],
   "source": [
    "Ans: Function annotations provide a way of associating various parts of a function with arbitrary pythonic expressions at\n",
    "compile time.Annotations of simple parameters def func(x: expression, y: expression = 20):\n",
    "Whereas the annotations for excess parameters are as − def func (**args: expression, **kwargs: expression):\n"
   ]
  },
  {
   "cell_type": "code",
   "execution_count": null,
   "id": "6c88a879-268a-4557-bb8f-7be96401eae7",
   "metadata": {},
   "outputs": [],
   "source": [
    "5. What are recursive functions, and how are they used?"
   ]
  },
  {
   "cell_type": "code",
   "execution_count": null,
   "id": "4f9806b1-0714-4586-9b2f-dc977dd92874",
   "metadata": {},
   "outputs": [],
   "source": [
    "Ans: A recursive function is a function that calls itself during its execution. The process may repeat several times, \n",
    "outputting the result and the end of each iteration.\n"
   ]
  },
  {
   "cell_type": "code",
   "execution_count": null,
   "id": "110d7ddc-d617-45b3-aa50-1ca5f0cccad3",
   "metadata": {},
   "outputs": [],
   "source": [
    "6. What are some general design guidelines for coding functions?\n"
   ]
  },
  {
   "cell_type": "code",
   "execution_count": null,
   "id": "f8da571b-7c0b-47c7-8c43-59af58bda64c",
   "metadata": {},
   "outputs": [],
   "source": [
    "Ans: Some of the general design guidelines for coding functions are:\n",
    "\n",
    "Always use a docstring to explain the functionality of the function\n",
    "avoid using or limited use of global variables\n",
    "Proper Identation to increase the code readability\n",
    "try to follow a naming convention for function names (pascalCase or camelCase) and stick with the same convention throughout the application.\n",
    "Avoid using digits while choosing a variable name\n",
    "try to use a name for the function which conveys the purpose of the function\n",
    "Local variables should be named using camelCase format (ex: localVariable) whereas Global variables names should be using PascalCase (ex:GlobalVariable).\n",
    "Constant should be represented in allcaps (ex:CONSTANT)."
   ]
  },
  {
   "cell_type": "code",
   "execution_count": null,
   "id": "1184bd80-26b7-4fae-87a9-a75d93c2b3fd",
   "metadata": {},
   "outputs": [],
   "source": [
    "7. Name three or more ways that functions can communicate results to a caller."
   ]
  },
  {
   "cell_type": "code",
   "execution_count": null,
   "id": "ed8629a3-59a4-47da-96d4-f2843d19754f",
   "metadata": {},
   "outputs": [],
   "source": [
    "Ans: Some of the ways in which a function can communicate with the calling function is:\n",
    "\n",
    "print\n",
    "return\n",
    "yield"
   ]
  },
  {
   "cell_type": "code",
   "execution_count": null,
   "id": "7fda639a-e0d7-4cdc-b99c-881f61cb2ae8",
   "metadata": {},
   "outputs": [],
   "source": []
  }
 ],
 "metadata": {
  "kernelspec": {
   "display_name": "Python 3 (ipykernel)",
   "language": "python",
   "name": "python3"
  },
  "language_info": {
   "codemirror_mode": {
    "name": "ipython",
    "version": 3
   },
   "file_extension": ".py",
   "mimetype": "text/x-python",
   "name": "python",
   "nbconvert_exporter": "python",
   "pygments_lexer": "ipython3",
   "version": "3.10.6"
  }
 },
 "nbformat": 4,
 "nbformat_minor": 5
}
