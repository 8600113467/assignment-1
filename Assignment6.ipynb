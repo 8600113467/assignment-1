{
 "cells": [
  {
   "cell_type": "code",
   "execution_count": null,
   "id": "10dbca7d-82b8-42fd-bc4d-d3e3504a8a78",
   "metadata": {},
   "outputs": [],
   "source": []
  },
  {
   "cell_type": "code",
   "execution_count": null,
   "id": "0282f1a4-7f61-49f5-b9ea-c2bb674d46c5",
   "metadata": {},
   "outputs": [],
   "source": [
    "1.What are Escape characters ? and how do you use them ?\n",
    "Ans: ( \\ ) Back slash is Escape character. which is use to print single back slash \\ , double back slash any many more things. \n",
    "basically it ornatment a string that is normally not allowed\n"
   ]
  },
  {
   "cell_type": "code",
   "execution_count": null,
   "id": "0ad130c4-0780-49e3-9a1a-8dbfaeb0f5d2",
   "metadata": {},
   "outputs": [],
   "source": [
    "2.What do the escape characters n and t stand for ?\n",
    "Ans: \\n is a newline, \\t is a tab\n"
   ]
  },
  {
   "cell_type": "code",
   "execution_count": 5,
   "id": "13a6939f-4ff7-4f5d-bad3-5066149ea5c6",
   "metadata": {},
   "outputs": [
    {
     "name": "stdout",
     "output_type": "stream",
     "text": [
      "hello \n",
      "world\n"
     ]
    }
   ],
   "source": [
    "print(\"hello \\nworld\") # we can print two line with single line code"
   ]
  },
  {
   "cell_type": "code",
   "execution_count": 8,
   "id": "266cb798-437d-4b1f-8aa2-b7eb836604f1",
   "metadata": {},
   "outputs": [
    {
     "name": "stdout",
     "output_type": "stream",
     "text": [
      "ineron\n",
      "\tineuron\n"
     ]
    }
   ],
   "source": [
    "print(\"ineron\")\n",
    "print(\"\\tineuron\")"
   ]
  },
  {
   "cell_type": "code",
   "execution_count": null,
   "id": "797a3402-454f-4fea-8fbf-85f282732eeb",
   "metadata": {},
   "outputs": [],
   "source": [
    "3.What is the way to include backslash character in a string?\n",
    "Ans: The double back slash \"\\\\\" will print a \"\\\"  in string."
   ]
  },
  {
   "cell_type": "code",
   "execution_count": 9,
   "id": "798ca7fe-88c6-4a80-b347-f7ed6f45ba81",
   "metadata": {},
   "outputs": [
    {
     "name": "stdout",
     "output_type": "stream",
     "text": [
      "\\\n"
     ]
    }
   ],
   "source": [
    "print(\"\\\\\")"
   ]
  },
  {
   "cell_type": "code",
   "execution_count": null,
   "id": "86b8b12d-e034-4f3f-b211-7a7f67bba1c6",
   "metadata": {},
   "outputs": [],
   "source": [
    "4.The string \"Howl's Moving Castle\" is a correct value. Why isn't the single quote character in the word Howl's not escaped a problem ?\n",
    "Ans: The string \"Howl's Moving Castle\" escaped the problem because it is wrapped inside double quotes. if its wrapped inside single\n",
    "quotes then we have to use escape character \\' to show single quote in the final output\n",
    "'Howl\\'s Moving Castle' -> 'Howl's Moving Castle'"
   ]
  },
  {
   "cell_type": "code",
   "execution_count": 10,
   "id": "a158291b-7632-45cb-8a80-0ee054dee344",
   "metadata": {},
   "outputs": [
    {
     "name": "stdout",
     "output_type": "stream",
     "text": [
      "Howl's Moving Castle\n"
     ]
    }
   ],
   "source": [
    "print( \"Howl's Moving Castle\" ) \n",
    "   "
   ]
  },
  {
   "cell_type": "code",
   "execution_count": 11,
   "id": "91899890-f57b-4905-9d2a-e499c95af268",
   "metadata": {},
   "outputs": [
    {
     "ename": "SyntaxError",
     "evalue": "unterminated string literal (detected at line 1) (1672144122.py, line 1)",
     "output_type": "error",
     "traceback": [
      "\u001b[0;36m  Cell \u001b[0;32mIn [11], line 1\u001b[0;36m\u001b[0m\n\u001b[0;31m    print( 'Howl's Moving Castle' )\u001b[0m\n\u001b[0m                                ^\u001b[0m\n\u001b[0;31mSyntaxError\u001b[0m\u001b[0;31m:\u001b[0m unterminated string literal (detected at line 1)\n"
     ]
    }
   ],
   "source": [
    "print( 'Howl's Moving Castle' ) "
   ]
  },
  {
   "cell_type": "code",
   "execution_count": 12,
   "id": "7ad623db-164b-4649-a9f1-8be961a2dbe0",
   "metadata": {},
   "outputs": [
    {
     "name": "stdout",
     "output_type": "stream",
     "text": [
      "Howl's Moving Castle\n"
     ]
    }
   ],
   "source": [
    "print('Howl\\'s Moving Castle')"
   ]
  },
  {
   "cell_type": "code",
   "execution_count": null,
   "id": "ccf10672-8f10-4d29-99ea-a8cc7211ff25",
   "metadata": {},
   "outputs": [],
   "source": [
    "5.How do you write a string of newlines if you don't want to use the n character?\n",
    "Ans: Multiline string allow you to use newlines in string without the \\n escape character\n"
   ]
  },
  {
   "cell_type": "code",
   "execution_count": 15,
   "id": "cb80062f-9717-448c-bd30-f9e497ca2b86",
   "metadata": {},
   "outputs": [
    {
     "name": "stdout",
     "output_type": "stream",
     "text": [
      "ineuron is\n",
      "best institute\n",
      "for data science\n"
     ]
    }
   ],
   "source": [
    "print(\"\"\"ineuron is\n",
    "best institute\n",
    "for data science\"\"\")"
   ]
  },
  {
   "cell_type": "code",
   "execution_count": null,
   "id": "f77dc011-b438-404c-86bb-744da9e339b8",
   "metadata": {},
   "outputs": [],
   "source": [
    "6.What are the values of the given expressions ?\n",
    "'Hello, world!'[1]\n",
    "'Hello, world!'[0:5]\n",
    "'Hello, world!'[:5]\n",
    "'Hello, world!'[3:]\n",
    "\n",
    "Ans: The values for the given expressions are:"
   ]
  },
  {
   "cell_type": "code",
   "execution_count": 19,
   "id": "19ea53f2-4aad-4a41-92e9-1718e3459c30",
   "metadata": {},
   "outputs": [
    {
     "name": "stdout",
     "output_type": "stream",
     "text": [
      "e\n",
      "Hello\n",
      "Hello\n",
      "lo, world!\n"
     ]
    }
   ],
   "source": [
    "print('Hello, world!'[1])\n",
    "print('Hello, world!'[0:5])\n",
    "print('Hello, world!'[:5])\n",
    "print('Hello, world!'[3:])\n"
   ]
  },
  {
   "cell_type": "code",
   "execution_count": null,
   "id": "ef0446f0-d393-4ed7-beb7-119dc94c0945",
   "metadata": {},
   "outputs": [],
   "source": [
    "7.What are the values of the following expressions ?\n",
    "'Hello'.upper()\n",
    "'Hello'.upper().isupper()\n",
    "'Hello'.upper().lower()\n"
   ]
  },
  {
   "cell_type": "code",
   "execution_count": 33,
   "id": "45467311-13a1-4a0b-b830-764861ec86ba",
   "metadata": {},
   "outputs": [
    {
     "name": "stdout",
     "output_type": "stream",
     "text": [
      "HELLO\n",
      "True\n",
      "hello\n"
     ]
    }
   ],
   "source": [
    "print('Hello'.upper())\n",
    "print('Hello'.upper().isupper())\n",
    "print('Hello'.upper().lower())\n",
    "\n",
    "\n"
   ]
  },
  {
   "cell_type": "code",
   "execution_count": null,
   "id": "69f1502f-10ff-4c38-b705-2f5130105662",
   "metadata": {},
   "outputs": [],
   "source": [
    "8.What are the values of the following expressions ?\n",
    "'Remember, remember, the fifith of July.'.split()\n",
    "-'.join('There can only one'.split())\n",
    "\n",
    "Ans: The values for the given expressions are:"
   ]
  },
  {
   "cell_type": "code",
   "execution_count": 42,
   "id": "def6a221-7200-491d-876d-0308748bcd2a",
   "metadata": {},
   "outputs": [
    {
     "data": {
      "text/plain": [
       "['Remember,', 'remember,', 'the', 'fifith', 'of', 'July.']"
      ]
     },
     "execution_count": 42,
     "metadata": {},
     "output_type": "execute_result"
    }
   ],
   "source": [
    "'Remember, remember, the fifith of July.'.split()\n"
   ]
  },
  {
   "cell_type": "code",
   "execution_count": 43,
   "id": "96b6e346-4ff1-4799-8aac-753ec2d49dcc",
   "metadata": {},
   "outputs": [
    {
     "data": {
      "text/plain": [
       "'There-can-only-one'"
      ]
     },
     "execution_count": 43,
     "metadata": {},
     "output_type": "execute_result"
    }
   ],
   "source": [
    "'-'.join('There can only one'.split())\n"
   ]
  },
  {
   "cell_type": "code",
   "execution_count": null,
   "id": "b153ca09-52c0-46f8-bb88-4fa051bf04f8",
   "metadata": {},
   "outputs": [],
   "source": [
    "9.What are the methods for right-justifying, left-justifying and centering a string ?\n",
    "Ans: The rjust(),ljust(),center() string methods, respectively\n"
   ]
  },
  {
   "cell_type": "code",
   "execution_count": null,
   "id": "1fbf57a9-55e4-4b29-b23f-dc4b1e925af4",
   "metadata": {},
   "outputs": [],
   "source": [
    "10.What is the best way to remove whitespace characters from the start or end ?\n",
    "Ans: The lstrip() and rstrip() methods remove whitesapce characters from the left and right ends of a string respectively"
   ]
  },
  {
   "cell_type": "code",
   "execution_count": null,
   "id": "eeaf1cdc-056e-423b-aae1-1ba2a9dcb7c8",
   "metadata": {},
   "outputs": [],
   "source": [
    "\n"
   ]
  },
  {
   "cell_type": "code",
   "execution_count": null,
   "id": "45fdd05c-7445-4a7e-b5df-1f6206e05b1c",
   "metadata": {},
   "outputs": [],
   "source": []
  }
 ],
 "metadata": {
  "kernelspec": {
   "display_name": "Python 3 (ipykernel)",
   "language": "python",
   "name": "python3"
  },
  "language_info": {
   "codemirror_mode": {
    "name": "ipython",
    "version": 3
   },
   "file_extension": ".py",
   "mimetype": "text/x-python",
   "name": "python",
   "nbconvert_exporter": "python",
   "pygments_lexer": "ipython3",
   "version": "3.10.6"
  }
 },
 "nbformat": 4,
 "nbformat_minor": 5
}
