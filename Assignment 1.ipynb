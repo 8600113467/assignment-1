{
 "cells": [
  {
   "cell_type": "code",
   "execution_count": null,
   "id": "d59fec50-7b2f-41a4-9883-26c1c6af59e7",
   "metadata": {},
   "outputs": [],
   "source": [
    " Name - AKSHAY PATIL\n",
    " BATCH - 17  SEP 2022\n",
    " ASSIGNMENT NUMBER- 1"
   ]
  },
  {
   "cell_type": "code",
   "execution_count": null,
   "id": "cebd47df-1045-4657-aec0-e0021aa29d50",
   "metadata": {},
   "outputs": [],
   "source": [
    "1. In the below elements which of them are values or an expression? eg:- values can be\n",
    "integer or string and expressions will be mathematical operators.\n",
    "*\n",
    "\"hello\"\n",
    "-87.8\n",
    "-\n",
    "/\n",
    "+\n",
    "6"
   ]
  },
  {
   "cell_type": "code",
   "execution_count": null,
   "id": "6434aee8-916c-481e-96c6-d7a05cf532b2",
   "metadata": {},
   "outputs": [],
   "source": [
    "ans:\n",
    "values :\n",
    " string -\"hello\"\n",
    " integer - -87.8 , 6\n",
    "    \n",
    "Mathematical expression :\n",
    "    multiplication =  \" * \"\n",
    "    substraction   =  \" - \"\n",
    "    division       =  \" / \"\n",
    "    addition       =  \" + \""
   ]
  },
  {
   "cell_type": "code",
   "execution_count": null,
   "id": "46f0ff74-d9dc-466b-8c77-26010472c79f",
   "metadata": {},
   "outputs": [],
   "source": [
    "2. What is the difference between string and variable?\n",
    "ans:\n",
    "string = string is value that put in double or single qouet\n",
    "variable = in variable we can store a data like string , integer or sets , list , tuple.\n",
    "we can fetch the data by calling varible "
   ]
  },
  {
   "cell_type": "code",
   "execution_count": null,
   "id": "d611a49b-24fa-449e-a83b-019db7699587",
   "metadata": {},
   "outputs": [],
   "source": [
    "3. Describe three different data types.\n",
    "ans:\n",
    " a. numeric data type - in numeric data type we have 3 kind of data like integer (1,2) , float (12.23) , complex (2+7j)\n",
    " b. sequence data type  -\n",
    "         list  - use to store multiple values in single variable. list are mutable and order with index  eg. x=[1,2,3,4,5]\n",
    "         tuple - tuples are immutable in nature  , can contain duplicate values x=(1,2,3,4,5 ,5)\n",
    "         set - set are collection of unique items x= {1,2,3,4,5,6}\n",
    " c. boolean - boolen is a data type which contain only two value : TRUE OR FALSE"
   ]
  },
  {
   "cell_type": "code",
   "execution_count": null,
   "id": "b02cd52e-7fb9-4eb2-b9a8-9d7ba1f2e6d3",
   "metadata": {},
   "outputs": [],
   "source": [
    "4. What is an expression made up of? What do all expressions do?\n",
    "\n",
    "ANS: A valid combination of operator ,variable, identifier etc in python is called an expression.\n",
    "     there are many types of expression like\n",
    "     Arithematic expression -expression wich involve integer,floats,complex and arithematic operators eg. 5+2 ,2*3, 4/2\n",
    "     string expression -two types of string expression Concatenation and Replication. eg \"ineuron\" + \" bootcamp 2.0 \" , \"python\" * 2\n",
    "     relational expresion - an expression with  relational operator are called relational expression eg. 1 > 4 , 4<7 \n",
    "     logical expression - when expression use or, and and not operator \n",
    "    "
   ]
  },
  {
   "cell_type": "code",
   "execution_count": null,
   "id": "83316e30-979b-4d86-a616-eeb5d28d5b02",
   "metadata": {},
   "outputs": [],
   "source": []
  },
  {
   "cell_type": "code",
   "execution_count": null,
   "id": "85ac88aa-b754-47b4-bd25-bf80f314b918",
   "metadata": {},
   "outputs": [],
   "source": [
    "5. This assignment statements, like spam = 10. What is the difference between an\n",
    "expression and a statement?\n",
    "\n",
    "Expressions are unique in meaning, while statements are two-sided in execution. For example, 1 has a certain value while go( ) may be executed or not.\n",
    "\n",
    "Statements are the whole structure, while expressions are the building blocks. For example, a line or a block of code is a statement."
   ]
  },
  {
   "cell_type": "code",
   "execution_count": null,
   "id": "ba853341-a1ff-4251-974e-8fed255c74d5",
   "metadata": {},
   "outputs": [],
   "source": [
    "6. After running the following code, what does the variable bacon contain?\n",
    "bacon = 22\n",
    "bacon + 1"
   ]
  },
  {
   "cell_type": "code",
   "execution_count": 1,
   "id": "7e48aedf-10a4-464f-b489-67db0f66e0f0",
   "metadata": {},
   "outputs": [
    {
     "data": {
      "text/plain": [
       "23"
      ]
     },
     "execution_count": 1,
     "metadata": {},
     "output_type": "execute_result"
    }
   ],
   "source": [
    "bacon = 22\n",
    "bacon + 1"
   ]
  },
  {
   "cell_type": "code",
   "execution_count": null,
   "id": "2e4bec8d-bacb-4729-a5f4-dfb5090a0f39",
   "metadata": {},
   "outputs": [],
   "source": [
    "explantion - bacon is the varible ,which hold the integer value of 22. with arithamtic addition operator it perform addition operation"
   ]
  },
  {
   "cell_type": "code",
   "execution_count": null,
   "id": "0ee2b4a1-9117-46b9-b478-737b34f2f421",
   "metadata": {},
   "outputs": [],
   "source": [
    "7. What should the values of the following two terms be?\n",
    "spam + spamspam\n",
    "spam* 3"
   ]
  },
  {
   "cell_type": "code",
   "execution_count": 3,
   "id": "44f56c17-c52d-498a-95cd-446721a67592",
   "metadata": {},
   "outputs": [
    {
     "data": {
      "text/plain": [
       "'spam spamspam'"
      ]
     },
     "execution_count": 3,
     "metadata": {},
     "output_type": "execute_result"
    }
   ],
   "source": [
    "'spam' +' spamspam' #  Here concatenation of two string perform"
   ]
  },
  {
   "cell_type": "code",
   "execution_count": 5,
   "id": "37940d5e-2c5b-4d96-8e06-ce706197df9a",
   "metadata": {},
   "outputs": [
    {
     "data": {
      "text/plain": [
       "'spamspamspam'"
      ]
     },
     "execution_count": 5,
     "metadata": {},
     "output_type": "execute_result"
    }
   ],
   "source": [
    "'spam' * 3    #Here  Replication of two string perform. which multiply the string"
   ]
  },
  {
   "cell_type": "code",
   "execution_count": null,
   "id": "46457d9d-c39e-428e-8e24-1b73c2b9ae2e",
   "metadata": {},
   "outputs": [],
   "source": [
    "8. Why is eggs a valid variable name while 100 is invalid?\n",
    "variable name should not start with number"
   ]
  },
  {
   "cell_type": "code",
   "execution_count": null,
   "id": "c82df4a8-6ba0-4ac5-94eb-db32576427de",
   "metadata": {},
   "outputs": [],
   "source": [
    "9. What three functions can be used to get the integer, floating-point number, or string\n",
    "version of a value?\n",
    "int() ,"
   ]
  },
  {
   "cell_type": "code",
   "execution_count": 1,
   "id": "2c7f0781-2e68-4b33-ba2b-46a8da111bc6",
   "metadata": {},
   "outputs": [],
   "source": [
    "a = 10/3"
   ]
  },
  {
   "cell_type": "code",
   "execution_count": 9,
   "id": "e14eb203-2a2d-41ec-96ce-b86e959f25e5",
   "metadata": {},
   "outputs": [
    {
     "data": {
      "text/plain": [
       "3"
      ]
     },
     "execution_count": 9,
     "metadata": {},
     "output_type": "execute_result"
    }
   ],
   "source": [
    "int(a)"
   ]
  },
  {
   "cell_type": "code",
   "execution_count": 10,
   "id": "432e487f-4ef2-46af-8843-f0777d0ba886",
   "metadata": {},
   "outputs": [
    {
     "data": {
      "text/plain": [
       "3.3333333333333335"
      ]
     },
     "execution_count": 10,
     "metadata": {},
     "output_type": "execute_result"
    }
   ],
   "source": [
    "float(a)"
   ]
  },
  {
   "cell_type": "code",
   "execution_count": 3,
   "id": "ceb162ea-efb1-4a87-8cfb-c8ed6a7f56ac",
   "metadata": {},
   "outputs": [
    {
     "data": {
      "text/plain": [
       "'3.3333333333333335'"
      ]
     },
     "execution_count": 3,
     "metadata": {},
     "output_type": "execute_result"
    }
   ],
   "source": [
    "str(a)"
   ]
  },
  {
   "cell_type": "code",
   "execution_count": null,
   "id": "dfc58c37-8355-4d1d-9f6b-1005a2ed9f36",
   "metadata": {},
   "outputs": [],
   "source": []
  },
  {
   "cell_type": "code",
   "execution_count": null,
   "id": "3bb10585-c276-4032-8737-4d795fa2ed2f",
   "metadata": {},
   "outputs": [],
   "source": [
    "10. Why does this expression cause an error? How can you fix it?\n",
    "I have eaten + 99 +  burritos."
   ]
  },
  {
   "cell_type": "code",
   "execution_count": 13,
   "id": "dcf9b66c-526c-4ece-a2e8-80d24f41e3db",
   "metadata": {},
   "outputs": [
    {
     "ename": "SyntaxError",
     "evalue": "invalid syntax (1720760071.py, line 1)",
     "output_type": "error",
     "traceback": [
      "\u001b[0;36m  Cell \u001b[0;32mIn [13], line 1\u001b[0;36m\u001b[0m\n\u001b[0;31m    I have eaten + 99 +  burritos.\u001b[0m\n\u001b[0m      ^\u001b[0m\n\u001b[0;31mSyntaxError\u001b[0m\u001b[0;31m:\u001b[0m invalid syntax\n"
     ]
    }
   ],
   "source": [
    "I have eaten + 99 +  burritos."
   ]
  },
  {
   "cell_type": "code",
   "execution_count": null,
   "id": "ecaa499b-8cf7-480c-88f4-503ee691061f",
   "metadata": {},
   "outputs": [],
   "source": [
    "syntax error. concatenation of string and integer not allowed "
   ]
  }
 ],
 "metadata": {
  "kernelspec": {
   "display_name": "Python 3 (ipykernel)",
   "language": "python",
   "name": "python3"
  },
  "language_info": {
   "codemirror_mode": {
    "name": "ipython",
    "version": 3
   },
   "file_extension": ".py",
   "mimetype": "text/x-python",
   "name": "python",
   "nbconvert_exporter": "python",
   "pygments_lexer": "ipython3",
   "version": "3.10.6"
  }
 },
 "nbformat": 4,
 "nbformat_minor": 5
}
