{
 "cells": [
  {
   "cell_type": "code",
   "execution_count": null,
   "id": "abb03669-dcd3-4a2a-bebe-dc1ad05994b4",
   "metadata": {},
   "outputs": [],
   "source": [
    "PYTHON BASIC ASSIGNMENT\n",
    "Assignment 14"
   ]
  },
  {
   "cell_type": "code",
   "execution_count": null,
   "id": "6dba7c59-c86e-4482-864a-3ec8eb05bb69",
   "metadata": {},
   "outputs": [],
   "source": [
    "1. What does RGBA stand for?\n",
    "Ans:RGB color value represents RED, GREEN, and BLUE light sources. An RGBA color value\n",
    "is an extension of RGB with an Alpha channel (opacity).\n"
   ]
  },
  {
   "cell_type": "code",
   "execution_count": null,
   "id": "5811259d-4b85-4367-88fb-e10b724f99e8",
   "metadata": {},
   "outputs": [],
   "source": [
    "2. From the Pillow module, how do you get the RGBA value of any images?\n",
    "Ans: ImageColor.getcolor() command gives RGBA value of images\n"
   ]
  },
  {
   "cell_type": "code",
   "execution_count": null,
   "id": "eddd09d6-59e6-4ff4-879d-4058fc7d0b64",
   "metadata": {},
   "outputs": [],
   "source": [
    "3. What is a box tuple, and how does it work?\n",
    "Ans: A box tuple is a tuple value of four integers: the left-edge x-coordinate, \n",
    "the top-edge y-coordinate,the width, and the height, respectively.\n"
   ]
  },
  {
   "cell_type": "code",
   "execution_count": null,
   "id": "c6b1ba75-8697-4bce-bc29-972924214e2d",
   "metadata": {},
   "outputs": [],
   "source": [
    "4. Use your image and load in notebook then, How can you find out the width and height of an Image object?\n",
    "from PIL import Image\n",
    "pic = Image.open('image1.jpg')\n",
    "print(f'Width, Height -> {pic.size}') \n"
   ]
  },
  {
   "cell_type": "code",
   "execution_count": null,
   "id": "4cc237ca-96d5-4e6f-afa4-6b95c7b25f66",
   "metadata": {},
   "outputs": [],
   "source": [
    "5. What method would you call to get Image object for a 100×100 image, excluding the \n",
    "lower-left quarter of it?\n",
    "from PIL import Image\n",
    "img = Image.open('Pic.jpg')\n",
    "new_img = img.crop((0,50,50,50))"
   ]
  },
  {
   "cell_type": "code",
   "execution_count": null,
   "id": "41d354b5-071c-4f53-96d8-8c5f5a2d6ea5",
   "metadata": {},
   "outputs": [],
   "source": [
    "6. After making changes to an Image object, how could you save it as an image file?\n",
    "pic.save('pic2.jpg') command use to save image after changes"
   ]
  },
  {
   "cell_type": "code",
   "execution_count": null,
   "id": "51a551cb-4125-40f1-bffc-5a27372792a5",
   "metadata": {},
   "outputs": [],
   "source": [
    "7. What module contains Pillow’s shape-drawing code?\n",
    "Ans: Pillows ImageDraw module contains Shape drawing methods\n"
   ]
  },
  {
   "cell_type": "code",
   "execution_count": null,
   "id": "05579214-b6e7-4c5c-a901-913cede79933",
   "metadata": {},
   "outputs": [],
   "source": [
    "8. Image objects do not have drawing methods. What kind of object does? How do you get \n",
    "this kind of object?\n",
    "Ans: ImageDraw objects have shape-drawing methods such as point(), line(), or\n",
    "rectangle().They are returned by passing the Image object to the ImageDraw.Draw() \n",
    "function."
   ]
  },
  {
   "cell_type": "code",
   "execution_count": null,
   "id": "d84939c1-12da-46d0-af0d-8c93887b7bfd",
   "metadata": {},
   "outputs": [],
   "source": []
  }
 ],
 "metadata": {
  "kernelspec": {
   "display_name": "Python 3 (ipykernel)",
   "language": "python",
   "name": "python3"
  },
  "language_info": {
   "codemirror_mode": {
    "name": "ipython",
    "version": 3
   },
   "file_extension": ".py",
   "mimetype": "text/x-python",
   "name": "python",
   "nbconvert_exporter": "python",
   "pygments_lexer": "ipython3",
   "version": "3.10.6"
  }
 },
 "nbformat": 4,
 "nbformat_minor": 5
}
